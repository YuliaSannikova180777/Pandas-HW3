{
 "cells": [
  {
   "cell_type": "markdown",
   "metadata": {},
   "source": [
    "# Задание 3. Pandas (HW)\n",
    "### Используя библиотеку pandas (или аналоги), проанализировать как можно больше характеристик, влияющих на успеваемость студентов.  \n",
    "Результат прислать в формате ссылки на Github с ноутбуком"
   ]
  },
  {
   "cell_type": "code",
   "execution_count": 2,
   "metadata": {},
   "outputs": [],
   "source": [
    "# Импорт библиотек\n",
    "import numpy as np\n",
    "import pandas as pd\n",
    "import seaborn as sns\n",
    "import matplotlib.pyplot as plt"
   ]
  },
  {
   "cell_type": "markdown",
   "metadata": {},
   "source": [
    "## Анализ вспомогательных таблиц"
   ]
  },
  {
   "attachments": {},
   "cell_type": "markdown",
   "metadata": {},
   "source": [
    "### lectures.csv : Статичтика для лекций, просмотренных студентами по мере их обучения.\n",
    "\n",
    "**lecture_id**: внешний ключ для столбца content_type_id в train.csv, если тип материала - лекция (1).  \n",
    "**part**: раздел, к которому относится лекция.  \n",
    "**tag**: один тег для каждой лекции. Значения тегов не представлены, но их достаточно для кластеризации лекций.  \n",
    "**type_of**: краткое описание основной цели лекции."
   ]
  },
  {
   "cell_type": "code",
   "execution_count": 5,
   "metadata": {},
   "outputs": [
    {
     "data": {
      "text/plain": [
       "(418, 4)"
      ]
     },
     "execution_count": 5,
     "metadata": {},
     "output_type": "execute_result"
    }
   ],
   "source": [
    "# считываю данные из файла lectures.csv в датафрейм lect_df\n",
    "lect_df = pd.read_csv('data/lectures.csv') \n",
    "# вывожу размерность lect_df\n",
    "lect_df.shape "
   ]
  },
  {
   "cell_type": "code",
   "execution_count": 6,
   "metadata": {},
   "outputs": [
    {
     "data": {
      "text/html": [
       "<div>\n",
       "<style scoped>\n",
       "    .dataframe tbody tr th:only-of-type {\n",
       "        vertical-align: middle;\n",
       "    }\n",
       "\n",
       "    .dataframe tbody tr th {\n",
       "        vertical-align: top;\n",
       "    }\n",
       "\n",
       "    .dataframe thead th {\n",
       "        text-align: right;\n",
       "    }\n",
       "</style>\n",
       "<table border=\"1\" class=\"dataframe\">\n",
       "  <thead>\n",
       "    <tr style=\"text-align: right;\">\n",
       "      <th></th>\n",
       "      <th>lecture_id</th>\n",
       "      <th>tag</th>\n",
       "      <th>part</th>\n",
       "      <th>type_of</th>\n",
       "    </tr>\n",
       "  </thead>\n",
       "  <tbody>\n",
       "    <tr>\n",
       "      <th>0</th>\n",
       "      <td>89</td>\n",
       "      <td>159</td>\n",
       "      <td>5</td>\n",
       "      <td>concept</td>\n",
       "    </tr>\n",
       "    <tr>\n",
       "      <th>1</th>\n",
       "      <td>100</td>\n",
       "      <td>70</td>\n",
       "      <td>1</td>\n",
       "      <td>concept</td>\n",
       "    </tr>\n",
       "    <tr>\n",
       "      <th>2</th>\n",
       "      <td>185</td>\n",
       "      <td>45</td>\n",
       "      <td>6</td>\n",
       "      <td>concept</td>\n",
       "    </tr>\n",
       "    <tr>\n",
       "      <th>3</th>\n",
       "      <td>192</td>\n",
       "      <td>79</td>\n",
       "      <td>5</td>\n",
       "      <td>solving question</td>\n",
       "    </tr>\n",
       "    <tr>\n",
       "      <th>4</th>\n",
       "      <td>317</td>\n",
       "      <td>156</td>\n",
       "      <td>5</td>\n",
       "      <td>solving question</td>\n",
       "    </tr>\n",
       "  </tbody>\n",
       "</table>\n",
       "</div>"
      ],
      "text/plain": [
       "   lecture_id  tag  part           type_of\n",
       "0          89  159     5           concept\n",
       "1         100   70     1           concept\n",
       "2         185   45     6           concept\n",
       "3         192   79     5  solving question\n",
       "4         317  156     5  solving question"
      ]
     },
     "execution_count": 6,
     "metadata": {},
     "output_type": "execute_result"
    }
   ],
   "source": [
    "# вывожу 5 первых строк lect_df\n",
    "lect_df.head() "
   ]
  },
  {
   "cell_type": "code",
   "execution_count": 7,
   "metadata": {},
   "outputs": [
    {
     "data": {
      "text/html": [
       "<div>\n",
       "<style scoped>\n",
       "    .dataframe tbody tr th:only-of-type {\n",
       "        vertical-align: middle;\n",
       "    }\n",
       "\n",
       "    .dataframe tbody tr th {\n",
       "        vertical-align: top;\n",
       "    }\n",
       "\n",
       "    .dataframe thead th {\n",
       "        text-align: right;\n",
       "    }\n",
       "</style>\n",
       "<table border=\"1\" class=\"dataframe\">\n",
       "  <thead>\n",
       "    <tr style=\"text-align: right;\">\n",
       "      <th></th>\n",
       "      <th>lecture_id</th>\n",
       "      <th>tag</th>\n",
       "      <th>part</th>\n",
       "    </tr>\n",
       "  </thead>\n",
       "  <tbody>\n",
       "    <tr>\n",
       "      <th>count</th>\n",
       "      <td>418.000000</td>\n",
       "      <td>418.000000</td>\n",
       "      <td>418.000000</td>\n",
       "    </tr>\n",
       "    <tr>\n",
       "      <th>mean</th>\n",
       "      <td>16983.401914</td>\n",
       "      <td>94.480861</td>\n",
       "      <td>4.267943</td>\n",
       "    </tr>\n",
       "    <tr>\n",
       "      <th>std</th>\n",
       "      <td>9426.164660</td>\n",
       "      <td>53.586487</td>\n",
       "      <td>1.872424</td>\n",
       "    </tr>\n",
       "    <tr>\n",
       "      <th>min</th>\n",
       "      <td>89.000000</td>\n",
       "      <td>0.000000</td>\n",
       "      <td>1.000000</td>\n",
       "    </tr>\n",
       "    <tr>\n",
       "      <th>25%</th>\n",
       "      <td>9026.250000</td>\n",
       "      <td>50.250000</td>\n",
       "      <td>2.000000</td>\n",
       "    </tr>\n",
       "    <tr>\n",
       "      <th>50%</th>\n",
       "      <td>17161.500000</td>\n",
       "      <td>94.500000</td>\n",
       "      <td>5.000000</td>\n",
       "    </tr>\n",
       "    <tr>\n",
       "      <th>75%</th>\n",
       "      <td>24906.250000</td>\n",
       "      <td>140.000000</td>\n",
       "      <td>6.000000</td>\n",
       "    </tr>\n",
       "    <tr>\n",
       "      <th>max</th>\n",
       "      <td>32736.000000</td>\n",
       "      <td>187.000000</td>\n",
       "      <td>7.000000</td>\n",
       "    </tr>\n",
       "  </tbody>\n",
       "</table>\n",
       "</div>"
      ],
      "text/plain": [
       "         lecture_id         tag        part\n",
       "count    418.000000  418.000000  418.000000\n",
       "mean   16983.401914   94.480861    4.267943\n",
       "std     9426.164660   53.586487    1.872424\n",
       "min       89.000000    0.000000    1.000000\n",
       "25%     9026.250000   50.250000    2.000000\n",
       "50%    17161.500000   94.500000    5.000000\n",
       "75%    24906.250000  140.000000    6.000000\n",
       "max    32736.000000  187.000000    7.000000"
      ]
     },
     "execution_count": 7,
     "metadata": {},
     "output_type": "execute_result"
    }
   ],
   "source": [
    "# вывожу статистику по числовым признакам lect_df\n",
    "lect_df.describe() "
   ]
  },
  {
   "cell_type": "code",
   "execution_count": 8,
   "metadata": {},
   "outputs": [
    {
     "data": {
      "text/plain": [
       "lecture_id    0\n",
       "tag           0\n",
       "part          0\n",
       "type_of       0\n",
       "dtype: int64"
      ]
     },
     "execution_count": 8,
     "metadata": {},
     "output_type": "execute_result"
    }
   ],
   "source": [
    "# в lect_df пустые ячейки отсутсвуют\n",
    "lect_df.isna().sum() "
   ]
  },
  {
   "cell_type": "code",
   "execution_count": 9,
   "metadata": {},
   "outputs": [
    {
     "data": {
      "text/plain": [
       "0"
      ]
     },
     "execution_count": 9,
     "metadata": {},
     "output_type": "execute_result"
    }
   ],
   "source": [
    "# в lect_df дубликаты отсутсвуют\n",
    "lect_df.duplicated().sum() "
   ]
  },
  {
   "cell_type": "code",
   "execution_count": 10,
   "metadata": {},
   "outputs": [
    {
     "name": "stdout",
     "output_type": "stream",
     "text": [
      "<class 'pandas.core.frame.DataFrame'>\n",
      "RangeIndex: 418 entries, 0 to 417\n",
      "Data columns (total 4 columns):\n",
      " #   Column      Non-Null Count  Dtype \n",
      "---  ------      --------------  ----- \n",
      " 0   lecture_id  418 non-null    int64 \n",
      " 1   tag         418 non-null    int64 \n",
      " 2   part        418 non-null    int64 \n",
      " 3   type_of     418 non-null    object\n",
      "dtypes: int64(3), object(1)\n",
      "memory usage: 13.2+ KB\n"
     ]
    }
   ],
   "source": [
    "# вывожу справку о количестве данных в столбцах и тип данных в lect_df\n",
    "lect_df.info() "
   ]
  },
  {
   "cell_type": "code",
   "execution_count": 11,
   "metadata": {},
   "outputs": [
    {
     "data": {
      "text/html": [
       "<div>\n",
       "<style scoped>\n",
       "    .dataframe tbody tr th:only-of-type {\n",
       "        vertical-align: middle;\n",
       "    }\n",
       "\n",
       "    .dataframe tbody tr th {\n",
       "        vertical-align: top;\n",
       "    }\n",
       "\n",
       "    .dataframe thead th {\n",
       "        text-align: right;\n",
       "    }\n",
       "</style>\n",
       "<table border=\"1\" class=\"dataframe\">\n",
       "  <thead>\n",
       "    <tr style=\"text-align: right;\">\n",
       "      <th></th>\n",
       "      <th>type_of</th>\n",
       "      <th>part</th>\n",
       "      <th>lecture_id</th>\n",
       "    </tr>\n",
       "  </thead>\n",
       "  <tbody>\n",
       "    <tr>\n",
       "      <th>0</th>\n",
       "      <td>concept</td>\n",
       "      <td>1</td>\n",
       "      <td>20</td>\n",
       "    </tr>\n",
       "    <tr>\n",
       "      <th>1</th>\n",
       "      <td>concept</td>\n",
       "      <td>2</td>\n",
       "      <td>18</td>\n",
       "    </tr>\n",
       "    <tr>\n",
       "      <th>2</th>\n",
       "      <td>concept</td>\n",
       "      <td>3</td>\n",
       "      <td>7</td>\n",
       "    </tr>\n",
       "    <tr>\n",
       "      <th>3</th>\n",
       "      <td>concept</td>\n",
       "      <td>4</td>\n",
       "      <td>19</td>\n",
       "    </tr>\n",
       "    <tr>\n",
       "      <th>4</th>\n",
       "      <td>concept</td>\n",
       "      <td>5</td>\n",
       "      <td>72</td>\n",
       "    </tr>\n",
       "    <tr>\n",
       "      <th>5</th>\n",
       "      <td>concept</td>\n",
       "      <td>6</td>\n",
       "      <td>63</td>\n",
       "    </tr>\n",
       "    <tr>\n",
       "      <th>6</th>\n",
       "      <td>concept</td>\n",
       "      <td>7</td>\n",
       "      <td>23</td>\n",
       "    </tr>\n",
       "    <tr>\n",
       "      <th>7</th>\n",
       "      <td>intention</td>\n",
       "      <td>2</td>\n",
       "      <td>7</td>\n",
       "    </tr>\n",
       "    <tr>\n",
       "      <th>8</th>\n",
       "      <td>solving question</td>\n",
       "      <td>1</td>\n",
       "      <td>34</td>\n",
       "    </tr>\n",
       "    <tr>\n",
       "      <th>9</th>\n",
       "      <td>solving question</td>\n",
       "      <td>2</td>\n",
       "      <td>31</td>\n",
       "    </tr>\n",
       "    <tr>\n",
       "      <th>10</th>\n",
       "      <td>solving question</td>\n",
       "      <td>3</td>\n",
       "      <td>12</td>\n",
       "    </tr>\n",
       "    <tr>\n",
       "      <th>11</th>\n",
       "      <td>solving question</td>\n",
       "      <td>4</td>\n",
       "      <td>12</td>\n",
       "    </tr>\n",
       "    <tr>\n",
       "      <th>12</th>\n",
       "      <td>solving question</td>\n",
       "      <td>5</td>\n",
       "      <td>69</td>\n",
       "    </tr>\n",
       "    <tr>\n",
       "      <th>13</th>\n",
       "      <td>solving question</td>\n",
       "      <td>6</td>\n",
       "      <td>19</td>\n",
       "    </tr>\n",
       "    <tr>\n",
       "      <th>14</th>\n",
       "      <td>solving question</td>\n",
       "      <td>7</td>\n",
       "      <td>9</td>\n",
       "    </tr>\n",
       "    <tr>\n",
       "      <th>15</th>\n",
       "      <td>starter</td>\n",
       "      <td>5</td>\n",
       "      <td>2</td>\n",
       "    </tr>\n",
       "    <tr>\n",
       "      <th>16</th>\n",
       "      <td>starter</td>\n",
       "      <td>6</td>\n",
       "      <td>1</td>\n",
       "    </tr>\n",
       "  </tbody>\n",
       "</table>\n",
       "</div>"
      ],
      "text/plain": [
       "             type_of  part  lecture_id\n",
       "0            concept     1          20\n",
       "1            concept     2          18\n",
       "2            concept     3           7\n",
       "3            concept     4          19\n",
       "4            concept     5          72\n",
       "5            concept     6          63\n",
       "6            concept     7          23\n",
       "7          intention     2           7\n",
       "8   solving question     1          34\n",
       "9   solving question     2          31\n",
       "10  solving question     3          12\n",
       "11  solving question     4          12\n",
       "12  solving question     5          69\n",
       "13  solving question     6          19\n",
       "14  solving question     7           9\n",
       "15           starter     5           2\n",
       "16           starter     6           1"
      ]
     },
     "execution_count": 11,
     "metadata": {},
     "output_type": "execute_result"
    }
   ],
   "source": [
    "# вывожу распеределение внешних ключей по различным разделам лекций\n",
    "lect_df[['type_of', 'part', 'lecture_id']].groupby(['type_of','part'], as_index = False).count().sort_values(by = ['type_of', 'part'])"
   ]
  },
  {
   "cell_type": "code",
   "execution_count": 12,
   "metadata": {},
   "outputs": [
    {
     "data": {
      "text/plain": [
       "<AxesSubplot: xlabel='part', ylabel='tag'>"
      ]
     },
     "execution_count": 12,
     "metadata": {},
     "output_type": "execute_result"
    },
    {
     "data": {
      "image/png": "[encoded data removed]",
      "text/plain": [
       "<Figure size 640x480 with 1 Axes>"
      ]
     },
     "metadata": {},
     "output_type": "display_data"
    }
   ],
   "source": [
    "# вывожу распеределение тегов и разделов\n",
    "sns.scatterplot(data = lect_df, x = 'part', y = 'tag', hue = 'type_of')"
   ]
  },
  {
   "cell_type": "code",
   "execution_count": 13,
   "metadata": {},
   "outputs": [
    {
     "data": {
      "text/plain": [
       "<AxesSubplot: xlabel='tag', ylabel='Count'>"
      ]
     },
     "execution_count": 13,
     "metadata": {},
     "output_type": "execute_result"
    },
    {
     "data": {
      "image/png": "[encoded data removed]",
      "text/plain": [
       "<Figure size 640x480 with 1 Axes>"
      ]
     },
     "metadata": {},
     "output_type": "display_data"
    }
   ],
   "source": [
    "# не вижу зависимости тегов и описаний лекций\n",
    "sns.histplot(data = lect_df, x = 'tag', hue = 'type_of')"
   ]
  },
  {
   "cell_type": "code",
   "execution_count": 14,
   "metadata": {},
   "outputs": [
    {
     "data": {
      "text/plain": [
       "<AxesSubplot: xlabel='part', ylabel='Count'>"
      ]
     },
     "execution_count": 14,
     "metadata": {},
     "output_type": "execute_result"
    },
    {
     "data": {
      "image/png": "[encoded data removed]",
      "text/plain": [
       "<Figure size 640x480 with 1 Axes>"
      ]
     },
     "metadata": {},
     "output_type": "display_data"
    }
   ],
   "source": [
    "# вывожу связь разделов и описаний лекций: \n",
    "# в первых 3-х разделах больше практических заданий, в остальных - теоретическая часть\n",
    "sns.histplot(data = lect_df, x = 'part', hue = 'type_of', bins = 7)"
   ]
  },
  {
   "attachments": {},
   "cell_type": "markdown",
   "metadata": {},
   "source": [
    "### questions.csv : статистические данные заданных студентам вопросов.\n",
    "\n",
    "**question_id**: внешний ключ для столбца content_type_id в train.csv, если тип контента - вопрос (0).  \n",
    "**bundle_id**: идентификатор совместного набора вопросов.  \n",
    "**correct_answer**: правильный ответ на вопрос. Можно сравнить со столбцом user_answer в train.csv, чтобы проверить, верно ли ответил студент.  \n",
    "**part**: соответствующий раздел теста TOEIC.  \n",
    "**tags**: один или несколько подробных тегов для каждого вопроса. Значения тегов не представлены, но их достаточно для кластеризации вопросов."
   ]
  },
  {
   "cell_type": "code",
   "execution_count": 15,
   "metadata": {},
   "outputs": [
    {
     "data": {
      "text/plain": [
       "(13523, 5)"
      ]
     },
     "execution_count": 15,
     "metadata": {},
     "output_type": "execute_result"
    }
   ],
   "source": [
    "qst_df = pd.read_csv('data/questions.csv') # считываем данные из файла questions.csv в qst_df\n",
    "qst_df.shape # выводим размерность qst_df"
   ]
  },
  {
   "cell_type": "code",
   "execution_count": 16,
   "metadata": {},
   "outputs": [
    {
     "data": {
      "text/html": [
       "<div>\n",
       "<style scoped>\n",
       "    .dataframe tbody tr th:only-of-type {\n",
       "        vertical-align: middle;\n",
       "    }\n",
       "\n",
       "    .dataframe tbody tr th {\n",
       "        vertical-align: top;\n",
       "    }\n",
       "\n",
       "    .dataframe thead th {\n",
       "        text-align: right;\n",
       "    }\n",
       "</style>\n",
       "<table border=\"1\" class=\"dataframe\">\n",
       "  <thead>\n",
       "    <tr style=\"text-align: right;\">\n",
       "      <th></th>\n",
       "      <th>question_id</th>\n",
       "      <th>bundle_id</th>\n",
       "      <th>correct_answer</th>\n",
       "      <th>part</th>\n",
       "      <th>tags</th>\n",
       "    </tr>\n",
       "  </thead>\n",
       "  <tbody>\n",
       "    <tr>\n",
       "      <th>0</th>\n",
       "      <td>0</td>\n",
       "      <td>0</td>\n",
       "      <td>0</td>\n",
       "      <td>1</td>\n",
       "      <td>51 131 162 38</td>\n",
       "    </tr>\n",
       "    <tr>\n",
       "      <th>1</th>\n",
       "      <td>1</td>\n",
       "      <td>1</td>\n",
       "      <td>1</td>\n",
       "      <td>1</td>\n",
       "      <td>131 36 81</td>\n",
       "    </tr>\n",
       "    <tr>\n",
       "      <th>2</th>\n",
       "      <td>2</td>\n",
       "      <td>2</td>\n",
       "      <td>0</td>\n",
       "      <td>1</td>\n",
       "      <td>131 101 162 92</td>\n",
       "    </tr>\n",
       "    <tr>\n",
       "      <th>3</th>\n",
       "      <td>3</td>\n",
       "      <td>3</td>\n",
       "      <td>0</td>\n",
       "      <td>1</td>\n",
       "      <td>131 149 162 29</td>\n",
       "    </tr>\n",
       "    <tr>\n",
       "      <th>4</th>\n",
       "      <td>4</td>\n",
       "      <td>4</td>\n",
       "      <td>3</td>\n",
       "      <td>1</td>\n",
       "      <td>131 5 162 38</td>\n",
       "    </tr>\n",
       "  </tbody>\n",
       "</table>\n",
       "</div>"
      ],
      "text/plain": [
       "   question_id  bundle_id  correct_answer  part            tags\n",
       "0            0          0               0     1   51 131 162 38\n",
       "1            1          1               1     1       131 36 81\n",
       "2            2          2               0     1  131 101 162 92\n",
       "3            3          3               0     1  131 149 162 29\n",
       "4            4          4               3     1    131 5 162 38"
      ]
     },
     "execution_count": 16,
     "metadata": {},
     "output_type": "execute_result"
    }
   ],
   "source": [
    "# вывожу первые 5 строк qst_df\n",
    "qst_df.head() "
   ]
  },
  {
   "cell_type": "code",
   "execution_count": 17,
   "metadata": {},
   "outputs": [
    {
     "data": {
      "text/html": [
       "<div>\n",
       "<style scoped>\n",
       "    .dataframe tbody tr th:only-of-type {\n",
       "        vertical-align: middle;\n",
       "    }\n",
       "\n",
       "    .dataframe tbody tr th {\n",
       "        vertical-align: top;\n",
       "    }\n",
       "\n",
       "    .dataframe thead th {\n",
       "        text-align: right;\n",
       "    }\n",
       "</style>\n",
       "<table border=\"1\" class=\"dataframe\">\n",
       "  <thead>\n",
       "    <tr style=\"text-align: right;\">\n",
       "      <th></th>\n",
       "      <th>question_id</th>\n",
       "      <th>bundle_id</th>\n",
       "      <th>correct_answer</th>\n",
       "      <th>part</th>\n",
       "    </tr>\n",
       "  </thead>\n",
       "  <tbody>\n",
       "    <tr>\n",
       "      <th>count</th>\n",
       "      <td>13523.00000</td>\n",
       "      <td>13523.000000</td>\n",
       "      <td>13523.000000</td>\n",
       "      <td>13523.000000</td>\n",
       "    </tr>\n",
       "    <tr>\n",
       "      <th>mean</th>\n",
       "      <td>6761.00000</td>\n",
       "      <td>6760.510907</td>\n",
       "      <td>1.455298</td>\n",
       "      <td>4.264956</td>\n",
       "    </tr>\n",
       "    <tr>\n",
       "      <th>std</th>\n",
       "      <td>3903.89818</td>\n",
       "      <td>3903.857783</td>\n",
       "      <td>1.149707</td>\n",
       "      <td>1.652553</td>\n",
       "    </tr>\n",
       "    <tr>\n",
       "      <th>min</th>\n",
       "      <td>0.00000</td>\n",
       "      <td>0.000000</td>\n",
       "      <td>0.000000</td>\n",
       "      <td>1.000000</td>\n",
       "    </tr>\n",
       "    <tr>\n",
       "      <th>25%</th>\n",
       "      <td>3380.50000</td>\n",
       "      <td>3379.500000</td>\n",
       "      <td>0.000000</td>\n",
       "      <td>3.000000</td>\n",
       "    </tr>\n",
       "    <tr>\n",
       "      <th>50%</th>\n",
       "      <td>6761.00000</td>\n",
       "      <td>6761.000000</td>\n",
       "      <td>1.000000</td>\n",
       "      <td>5.000000</td>\n",
       "    </tr>\n",
       "    <tr>\n",
       "      <th>75%</th>\n",
       "      <td>10141.50000</td>\n",
       "      <td>10140.000000</td>\n",
       "      <td>3.000000</td>\n",
       "      <td>5.000000</td>\n",
       "    </tr>\n",
       "    <tr>\n",
       "      <th>max</th>\n",
       "      <td>13522.00000</td>\n",
       "      <td>13522.000000</td>\n",
       "      <td>3.000000</td>\n",
       "      <td>7.000000</td>\n",
       "    </tr>\n",
       "  </tbody>\n",
       "</table>\n",
       "</div>"
      ],
      "text/plain": [
       "       question_id     bundle_id  correct_answer          part\n",
       "count  13523.00000  13523.000000    13523.000000  13523.000000\n",
       "mean    6761.00000   6760.510907        1.455298      4.264956\n",
       "std     3903.89818   3903.857783        1.149707      1.652553\n",
       "min        0.00000      0.000000        0.000000      1.000000\n",
       "25%     3380.50000   3379.500000        0.000000      3.000000\n",
       "50%     6761.00000   6761.000000        1.000000      5.000000\n",
       "75%    10141.50000  10140.000000        3.000000      5.000000\n",
       "max    13522.00000  13522.000000        3.000000      7.000000"
      ]
     },
     "execution_count": 17,
     "metadata": {},
     "output_type": "execute_result"
    }
   ],
   "source": [
    "# статистика по числовым признакам qst_df\n",
    "qst_df.describe()"
   ]
  },
  {
   "cell_type": "code",
   "execution_count": 18,
   "metadata": {},
   "outputs": [
    {
     "data": {
      "text/plain": [
       "question_id       0\n",
       "bundle_id         0\n",
       "correct_answer    0\n",
       "part              0\n",
       "tags              1\n",
       "dtype: int64"
      ]
     },
     "execution_count": 18,
     "metadata": {},
     "output_type": "execute_result"
    }
   ],
   "source": [
    "# ищу пропуски в qst_df\n",
    "qst_df.isna().sum()  \n",
    "# eсть 1 в столбце tags"
   ]
  },
  {
   "cell_type": "code",
   "execution_count": 19,
   "metadata": {},
   "outputs": [
    {
     "data": {
      "text/html": [
       "<div>\n",
       "<style scoped>\n",
       "    .dataframe tbody tr th:only-of-type {\n",
       "        vertical-align: middle;\n",
       "    }\n",
       "\n",
       "    .dataframe tbody tr th {\n",
       "        vertical-align: top;\n",
       "    }\n",
       "\n",
       "    .dataframe thead th {\n",
       "        text-align: right;\n",
       "    }\n",
       "</style>\n",
       "<table border=\"1\" class=\"dataframe\">\n",
       "  <thead>\n",
       "    <tr style=\"text-align: right;\">\n",
       "      <th></th>\n",
       "      <th>question_id</th>\n",
       "      <th>bundle_id</th>\n",
       "      <th>correct_answer</th>\n",
       "      <th>part</th>\n",
       "      <th>tags</th>\n",
       "    </tr>\n",
       "  </thead>\n",
       "  <tbody>\n",
       "    <tr>\n",
       "      <th>10033</th>\n",
       "      <td>10033</td>\n",
       "      <td>10033</td>\n",
       "      <td>2</td>\n",
       "      <td>6</td>\n",
       "      <td>NaN</td>\n",
       "    </tr>\n",
       "  </tbody>\n",
       "</table>\n",
       "</div>"
      ],
      "text/plain": [
       "       question_id  bundle_id  correct_answer  part tags\n",
       "10033        10033      10033               2     6  NaN"
      ]
     },
     "execution_count": 19,
     "metadata": {},
     "output_type": "execute_result"
    }
   ],
   "source": [
    "# вывожу пропуск в столбце tags\n",
    "qst_df[qst_df.tags.isna()] "
   ]
  },
  {
   "cell_type": "code",
   "execution_count": 20,
   "metadata": {},
   "outputs": [
    {
     "data": {
      "text/plain": [
       "0"
      ]
     },
     "execution_count": 20,
     "metadata": {},
     "output_type": "execute_result"
    }
   ],
   "source": [
    "# ищу дубликаты qst_df они отсутствуют\n",
    "qst_df.duplicated().sum() "
   ]
  },
  {
   "cell_type": "code",
   "execution_count": 21,
   "metadata": {},
   "outputs": [
    {
     "name": "stdout",
     "output_type": "stream",
     "text": [
      "<class 'pandas.core.frame.DataFrame'>\n",
      "RangeIndex: 13523 entries, 0 to 13522\n",
      "Data columns (total 5 columns):\n",
      " #   Column          Non-Null Count  Dtype \n",
      "---  ------          --------------  ----- \n",
      " 0   question_id     13523 non-null  int64 \n",
      " 1   bundle_id       13523 non-null  int64 \n",
      " 2   correct_answer  13523 non-null  int64 \n",
      " 3   part            13523 non-null  int64 \n",
      " 4   tags            13522 non-null  object\n",
      "dtypes: int64(4), object(1)\n",
      "memory usage: 528.4+ KB\n"
     ]
    }
   ],
   "source": [
    "# вывожу данные о кол-ве значений в столбцах и тип данных qst_df\n",
    "qst_df.info() "
   ]
  },
  {
   "cell_type": "code",
   "execution_count": 22,
   "metadata": {},
   "outputs": [
    {
     "data": {
      "text/html": [
       "<div>\n",
       "<style scoped>\n",
       "    .dataframe tbody tr th:only-of-type {\n",
       "        vertical-align: middle;\n",
       "    }\n",
       "\n",
       "    .dataframe tbody tr th {\n",
       "        vertical-align: top;\n",
       "    }\n",
       "\n",
       "    .dataframe thead th {\n",
       "        text-align: right;\n",
       "    }\n",
       "</style>\n",
       "<table border=\"1\" class=\"dataframe\">\n",
       "  <thead>\n",
       "    <tr style=\"text-align: right;\">\n",
       "      <th></th>\n",
       "      <th>part</th>\n",
       "      <th>question_id</th>\n",
       "    </tr>\n",
       "  </thead>\n",
       "  <tbody>\n",
       "    <tr>\n",
       "      <th>0</th>\n",
       "      <td>1</td>\n",
       "      <td>992</td>\n",
       "    </tr>\n",
       "    <tr>\n",
       "      <th>1</th>\n",
       "      <td>2</td>\n",
       "      <td>1647</td>\n",
       "    </tr>\n",
       "    <tr>\n",
       "      <th>2</th>\n",
       "      <td>3</td>\n",
       "      <td>1562</td>\n",
       "    </tr>\n",
       "    <tr>\n",
       "      <th>3</th>\n",
       "      <td>4</td>\n",
       "      <td>1439</td>\n",
       "    </tr>\n",
       "    <tr>\n",
       "      <th>4</th>\n",
       "      <td>5</td>\n",
       "      <td>5511</td>\n",
       "    </tr>\n",
       "    <tr>\n",
       "      <th>5</th>\n",
       "      <td>6</td>\n",
       "      <td>1212</td>\n",
       "    </tr>\n",
       "    <tr>\n",
       "      <th>6</th>\n",
       "      <td>7</td>\n",
       "      <td>1160</td>\n",
       "    </tr>\n",
       "  </tbody>\n",
       "</table>\n",
       "</div>"
      ],
      "text/plain": [
       "   part  question_id\n",
       "0     1          992\n",
       "1     2         1647\n",
       "2     3         1562\n",
       "3     4         1439\n",
       "4     5         5511\n",
       "5     6         1212\n",
       "6     7         1160"
      ]
     },
     "execution_count": 22,
     "metadata": {},
     "output_type": "execute_result"
    }
   ],
   "source": [
    "# вывожу кол-во значений внешних ключей, соответствующих каждому значению в столбце по разделам\n",
    "qst_df[['part', 'question_id']].groupby(['part'], as_index = False).count()"
   ]
  },
  {
   "cell_type": "code",
   "execution_count": 23,
   "metadata": {},
   "outputs": [
    {
     "data": {
      "text/plain": [
       "<AxesSubplot: xlabel='part', ylabel='Count'>"
      ]
     },
     "execution_count": 23,
     "metadata": {},
     "output_type": "execute_result"
    },
    {
     "data": {
      "image/png": "[encoded data removed]",
      "text/plain": [
       "<Figure size 640x480 with 1 Axes>"
      ]
     },
     "metadata": {},
     "output_type": "display_data"
    }
   ],
   "source": [
    "# внешние ключи распределены практически равномерно по всем разделам, в пятом разделе есть неравномерность распределения\n",
    "sns.histplot(data = qst_df, x = 'part', bins = 7)"
   ]
  },
  {
   "cell_type": "markdown",
   "metadata": {},
   "source": [
    "## Анализ основной таблицы"
   ]
  },
  {
   "attachments": {},
   "cell_type": "markdown",
   "metadata": {},
   "source": [
    "### train.csv : статистические данные ответов на заданные студентам вопросы.\n",
    "\n",
    "**row_id**: (int64) идентификатор строки.  \n",
    "**timestamp**: (int64) время в миллисекундах между этим взаимодействием со студентом и завершением первого события от данного студента.  \n",
    "**user_id**: (int32) идентификатор студента.  \n",
    "**content_id**: (int16) идентификатор взаимодействия со студентом.  \n",
    "**content_type_id**: (int8) идентификатор типа контента. 0, если контентом был заданный студенту вопрос, 1 - просмотр студентом лекции.  \n",
    "**task_container_id**: (int16) идентификатор набора вопросов или лекций. Например, студент может увидеть три вопроса подряд, прежде чем увидит пояснения к какому-либо из них. Все три вопроса будут иметь общий идентификатор набора.  \n",
    "**user_answer**: (int8) ответ студента на вопрос, если они есть. Для лекций считать -1 как null.  \n",
    "**answered_correctly**: (int8) был ли ответ студента на вопрос правильным. Для лекций считать -1 как null.  \n",
    "**prior_question_elapsed_time**: (float32) среднее время в миллисекундах, затрачиваемое студентом для ответа на каждый вопрос из предыдущего набора вопросов, без учёта промежуточных лекций. Имеет значение null для 1-го набора вопросов или лекции.  \n",
    "**prior_question_had_explanation**: (bool) увидел ли студент объяснение и правильный ответ после ответа на предыдущий набор вопросов, без учёта промежуточных лекций. Это значение является общим для одного набора вопросов и имеет значение null для 1-го набора вопросов или лекции. Как правило, первые несколько вопросов, увиденные студентом, были частью вводного диагностического теста и не получили никакой обратной связи."
   ]
  },
  {
   "cell_type": "code",
   "execution_count": 70,
   "metadata": {},
   "outputs": [
    {
     "data": {
      "text/plain": [
       "(20000000, 10)"
      ]
     },
     "execution_count": 70,
     "metadata": {},
     "output_type": "execute_result"
    }
   ],
   "source": [
    "# считываем 5000000 строк из файла train.csv в trn_df\n",
    "trn_df = pd.read_csv('data/train.csv', nrows= 20000000) \n",
    "trn_df.shape # вывожу размерность trn_df\n",
    "# пришлось ограничить количество строк т.к. обработка данных занимала много времени"
   ]
  },
  {
   "cell_type": "code",
   "execution_count": 71,
   "metadata": {},
   "outputs": [
    {
     "data": {
      "text/html": [
       "<div>\n",
       "<style scoped>\n",
       "    .dataframe tbody tr th:only-of-type {\n",
       "        vertical-align: middle;\n",
       "    }\n",
       "\n",
       "    .dataframe tbody tr th {\n",
       "        vertical-align: top;\n",
       "    }\n",
       "\n",
       "    .dataframe thead th {\n",
       "        text-align: right;\n",
       "    }\n",
       "</style>\n",
       "<table border=\"1\" class=\"dataframe\">\n",
       "  <thead>\n",
       "    <tr style=\"text-align: right;\">\n",
       "      <th></th>\n",
       "      <th>row_id</th>\n",
       "      <th>timestamp</th>\n",
       "      <th>user_id</th>\n",
       "      <th>content_id</th>\n",
       "      <th>content_type_id</th>\n",
       "      <th>task_container_id</th>\n",
       "      <th>user_answer</th>\n",
       "      <th>answered_correctly</th>\n",
       "      <th>prior_question_elapsed_time</th>\n",
       "      <th>prior_question_had_explanation</th>\n",
       "    </tr>\n",
       "  </thead>\n",
       "  <tbody>\n",
       "    <tr>\n",
       "      <th>0</th>\n",
       "      <td>0</td>\n",
       "      <td>0</td>\n",
       "      <td>115</td>\n",
       "      <td>5692</td>\n",
       "      <td>0</td>\n",
       "      <td>1</td>\n",
       "      <td>3</td>\n",
       "      <td>1</td>\n",
       "      <td>NaN</td>\n",
       "      <td>NaN</td>\n",
       "    </tr>\n",
       "    <tr>\n",
       "      <th>1</th>\n",
       "      <td>1</td>\n",
       "      <td>56943</td>\n",
       "      <td>115</td>\n",
       "      <td>5716</td>\n",
       "      <td>0</td>\n",
       "      <td>2</td>\n",
       "      <td>2</td>\n",
       "      <td>1</td>\n",
       "      <td>37000.0</td>\n",
       "      <td>False</td>\n",
       "    </tr>\n",
       "    <tr>\n",
       "      <th>2</th>\n",
       "      <td>2</td>\n",
       "      <td>118363</td>\n",
       "      <td>115</td>\n",
       "      <td>128</td>\n",
       "      <td>0</td>\n",
       "      <td>0</td>\n",
       "      <td>0</td>\n",
       "      <td>1</td>\n",
       "      <td>55000.0</td>\n",
       "      <td>False</td>\n",
       "    </tr>\n",
       "    <tr>\n",
       "      <th>3</th>\n",
       "      <td>3</td>\n",
       "      <td>131167</td>\n",
       "      <td>115</td>\n",
       "      <td>7860</td>\n",
       "      <td>0</td>\n",
       "      <td>3</td>\n",
       "      <td>0</td>\n",
       "      <td>1</td>\n",
       "      <td>19000.0</td>\n",
       "      <td>False</td>\n",
       "    </tr>\n",
       "    <tr>\n",
       "      <th>4</th>\n",
       "      <td>4</td>\n",
       "      <td>137965</td>\n",
       "      <td>115</td>\n",
       "      <td>7922</td>\n",
       "      <td>0</td>\n",
       "      <td>4</td>\n",
       "      <td>1</td>\n",
       "      <td>1</td>\n",
       "      <td>11000.0</td>\n",
       "      <td>False</td>\n",
       "    </tr>\n",
       "  </tbody>\n",
       "</table>\n",
       "</div>"
      ],
      "text/plain": [
       "   row_id  timestamp  user_id  content_id  content_type_id  task_container_id  \\\n",
       "0       0          0      115        5692                0                  1   \n",
       "1       1      56943      115        5716                0                  2   \n",
       "2       2     118363      115         128                0                  0   \n",
       "3       3     131167      115        7860                0                  3   \n",
       "4       4     137965      115        7922                0                  4   \n",
       "\n",
       "   user_answer  answered_correctly  prior_question_elapsed_time  \\\n",
       "0            3                   1                          NaN   \n",
       "1            2                   1                      37000.0   \n",
       "2            0                   1                      55000.0   \n",
       "3            0                   1                      19000.0   \n",
       "4            1                   1                      11000.0   \n",
       "\n",
       "  prior_question_had_explanation  \n",
       "0                            NaN  \n",
       "1                          False  \n",
       "2                          False  \n",
       "3                          False  \n",
       "4                          False  "
      ]
     },
     "execution_count": 71,
     "metadata": {},
     "output_type": "execute_result"
    }
   ],
   "source": [
    "trn_df.head() # вывожу 5 первых строк trn_dfq"
   ]
  },
  {
   "cell_type": "markdown",
   "metadata": {},
   "source": [
    "### Анализ числовых признаков"
   ]
  },
  {
   "cell_type": "code",
   "execution_count": 72,
   "metadata": {},
   "outputs": [
    {
     "name": "stdout",
     "output_type": "stream",
     "text": [
      "Категориальные данные:\t  ['prior_question_had_explanation'] \n",
      " Число столблцов = 1\n",
      "Числовые данные:\t  ['row_id', 'timestamp', 'user_id', 'content_id', 'content_type_id', 'task_container_id', 'user_answer', 'answered_correctly', 'prior_question_elapsed_time'] \n",
      " Число столблцов = 9\n"
     ]
    }
   ],
   "source": [
    "# смотрю на то, какие есть категориальные и числовые столбцы\n",
    "cat_columns = []\n",
    "num_columns = []\n",
    "\n",
    "for column_name in trn_df.columns:\n",
    "    if (trn_df[column_name].dtypes == object):\n",
    "        cat_columns += [column_name]\n",
    "    else:\n",
    "        num_columns += [column_name]\n",
    "\n",
    "print('Категориальные данные:\\t ',cat_columns, '\\n Число столблцов =', len(cat_columns))\n",
    "print('Числовые данные:\\t ', num_columns, '\\n Число столблцов =', len(num_columns))"
   ]
  },
  {
   "cell_type": "code",
   "execution_count": 73,
   "metadata": {},
   "outputs": [
    {
     "data": {
      "text/html": [
       "<div>\n",
       "<style scoped>\n",
       "    .dataframe tbody tr th:only-of-type {\n",
       "        vertical-align: middle;\n",
       "    }\n",
       "\n",
       "    .dataframe tbody tr th {\n",
       "        vertical-align: top;\n",
       "    }\n",
       "\n",
       "    .dataframe thead th {\n",
       "        text-align: right;\n",
       "    }\n",
       "</style>\n",
       "<table border=\"1\" class=\"dataframe\">\n",
       "  <thead>\n",
       "    <tr style=\"text-align: right;\">\n",
       "      <th></th>\n",
       "      <th>row_id</th>\n",
       "      <th>timestamp</th>\n",
       "      <th>user_id</th>\n",
       "      <th>content_id</th>\n",
       "      <th>content_type_id</th>\n",
       "      <th>task_container_id</th>\n",
       "      <th>user_answer</th>\n",
       "      <th>answered_correctly</th>\n",
       "      <th>prior_question_elapsed_time</th>\n",
       "    </tr>\n",
       "  </thead>\n",
       "  <tbody>\n",
       "    <tr>\n",
       "      <th>count</th>\n",
       "      <td>2.000000e+07</td>\n",
       "      <td>2.000000e+07</td>\n",
       "      <td>2.000000e+07</td>\n",
       "      <td>2.000000e+07</td>\n",
       "      <td>2.000000e+07</td>\n",
       "      <td>2.000000e+07</td>\n",
       "      <td>2.000000e+07</td>\n",
       "      <td>2.000000e+07</td>\n",
       "      <td>1.953207e+07</td>\n",
       "    </tr>\n",
       "    <tr>\n",
       "      <th>mean</th>\n",
       "      <td>1.000000e+07</td>\n",
       "      <td>7.587279e+09</td>\n",
       "      <td>2.156968e+08</td>\n",
       "      <td>5.221063e+03</td>\n",
       "      <td>1.949385e-02</td>\n",
       "      <td>8.877931e+02</td>\n",
       "      <td>1.376012e+00</td>\n",
       "      <td>6.253473e-01</td>\n",
       "      <td>2.541891e+04</td>\n",
       "    </tr>\n",
       "    <tr>\n",
       "      <th>std</th>\n",
       "      <td>5.773503e+06</td>\n",
       "      <td>1.149166e+10</td>\n",
       "      <td>1.242805e+08</td>\n",
       "      <td>3.869841e+03</td>\n",
       "      <td>1.382528e-01</td>\n",
       "      <td>1.347738e+03</td>\n",
       "      <td>1.193460e+00</td>\n",
       "      <td>5.227578e-01</td>\n",
       "      <td>1.989928e+04</td>\n",
       "    </tr>\n",
       "    <tr>\n",
       "      <th>min</th>\n",
       "      <td>0.000000e+00</td>\n",
       "      <td>0.000000e+00</td>\n",
       "      <td>1.150000e+02</td>\n",
       "      <td>0.000000e+00</td>\n",
       "      <td>0.000000e+00</td>\n",
       "      <td>0.000000e+00</td>\n",
       "      <td>-1.000000e+00</td>\n",
       "      <td>-1.000000e+00</td>\n",
       "      <td>0.000000e+00</td>\n",
       "    </tr>\n",
       "    <tr>\n",
       "      <th>25%</th>\n",
       "      <td>5.000000e+06</td>\n",
       "      <td>5.187953e+08</td>\n",
       "      <td>1.067638e+08</td>\n",
       "      <td>2.063000e+03</td>\n",
       "      <td>0.000000e+00</td>\n",
       "      <td>1.030000e+02</td>\n",
       "      <td>0.000000e+00</td>\n",
       "      <td>0.000000e+00</td>\n",
       "      <td>1.600000e+04</td>\n",
       "    </tr>\n",
       "    <tr>\n",
       "      <th>50%</th>\n",
       "      <td>1.000000e+07</td>\n",
       "      <td>2.629432e+09</td>\n",
       "      <td>2.167479e+08</td>\n",
       "      <td>5.030000e+03</td>\n",
       "      <td>0.000000e+00</td>\n",
       "      <td>3.750000e+02</td>\n",
       "      <td>1.000000e+00</td>\n",
       "      <td>1.000000e+00</td>\n",
       "      <td>2.100000e+04</td>\n",
       "    </tr>\n",
       "    <tr>\n",
       "      <th>75%</th>\n",
       "      <td>1.500000e+07</td>\n",
       "      <td>9.773781e+09</td>\n",
       "      <td>3.235100e+08</td>\n",
       "      <td>7.422000e+03</td>\n",
       "      <td>0.000000e+00</td>\n",
       "      <td>1.066000e+03</td>\n",
       "      <td>3.000000e+00</td>\n",
       "      <td>1.000000e+00</td>\n",
       "      <td>2.966600e+04</td>\n",
       "    </tr>\n",
       "    <tr>\n",
       "      <th>max</th>\n",
       "      <td>2.000000e+07</td>\n",
       "      <td>8.594535e+10</td>\n",
       "      <td>4.291869e+08</td>\n",
       "      <td>3.273600e+04</td>\n",
       "      <td>1.000000e+00</td>\n",
       "      <td>9.999000e+03</td>\n",
       "      <td>3.000000e+00</td>\n",
       "      <td>1.000000e+00</td>\n",
       "      <td>3.000000e+05</td>\n",
       "    </tr>\n",
       "  </tbody>\n",
       "</table>\n",
       "</div>"
      ],
      "text/plain": [
       "             row_id     timestamp       user_id    content_id  \\\n",
       "count  2.000000e+07  2.000000e+07  2.000000e+07  2.000000e+07   \n",
       "mean   1.000000e+07  7.587279e+09  2.156968e+08  5.221063e+03   \n",
       "std    5.773503e+06  1.149166e+10  1.242805e+08  3.869841e+03   \n",
       "min    0.000000e+00  0.000000e+00  1.150000e+02  0.000000e+00   \n",
       "25%    5.000000e+06  5.187953e+08  1.067638e+08  2.063000e+03   \n",
       "50%    1.000000e+07  2.629432e+09  2.167479e+08  5.030000e+03   \n",
       "75%    1.500000e+07  9.773781e+09  3.235100e+08  7.422000e+03   \n",
       "max    2.000000e+07  8.594535e+10  4.291869e+08  3.273600e+04   \n",
       "\n",
       "       content_type_id  task_container_id   user_answer  answered_correctly  \\\n",
       "count     2.000000e+07       2.000000e+07  2.000000e+07        2.000000e+07   \n",
       "mean      1.949385e-02       8.877931e+02  1.376012e+00        6.253473e-01   \n",
       "std       1.382528e-01       1.347738e+03  1.193460e+00        5.227578e-01   \n",
       "min       0.000000e+00       0.000000e+00 -1.000000e+00       -1.000000e+00   \n",
       "25%       0.000000e+00       1.030000e+02  0.000000e+00        0.000000e+00   \n",
       "50%       0.000000e+00       3.750000e+02  1.000000e+00        1.000000e+00   \n",
       "75%       0.000000e+00       1.066000e+03  3.000000e+00        1.000000e+00   \n",
       "max       1.000000e+00       9.999000e+03  3.000000e+00        1.000000e+00   \n",
       "\n",
       "       prior_question_elapsed_time  \n",
       "count                 1.953207e+07  \n",
       "mean                  2.541891e+04  \n",
       "std                   1.989928e+04  \n",
       "min                   0.000000e+00  \n",
       "25%                   1.600000e+04  \n",
       "50%                   2.100000e+04  \n",
       "75%                   2.966600e+04  \n",
       "max                   3.000000e+05  "
      ]
     },
     "execution_count": 73,
     "metadata": {},
     "output_type": "execute_result"
    }
   ],
   "source": [
    "# статистика по числовым признакам trn_df\n",
    "trn_df.describe() "
   ]
  },
  {
   "cell_type": "markdown",
   "metadata": {},
   "source": [
    "### Рассмотрим гистограммы (распределение) значений по каждому числовому признаку (столбцу)"
   ]
  },
  {
   "cell_type": "code",
   "execution_count": 74,
   "metadata": {},
   "outputs": [
    {
     "data": {
      "image/png": "[encoded data removed]",
      "text/plain": [
       "<Figure size 1200x1000 with 6 Axes>"
      ]
     },
     "metadata": {},
     "output_type": "display_data"
    }
   ],
   "source": [
    "# cначала вывожу столбцы с \"большими\" значениями\n",
    "num_col_big = ['row_id', 'timestamp', 'user_id', 'content_id', 'task_container_id', 'prior_question_elapsed_time']\n",
    "width = 2\n",
    "height = int(np.ceil(len(num_col_big) / width))\n",
    "fig, ax = plt.subplots(nrows = height, ncols = width, figsize = (12, 10))\n",
    "\n",
    "for idx, column_name in enumerate(num_col_big):\n",
    "    plt.subplot(height, width, idx + 1)\n",
    "    sns.histplot(data = trn_df, x = column_name, bins = 20, color = 'blue')"
   ]
  },
  {
   "cell_type": "code",
   "execution_count": 75,
   "metadata": {},
   "outputs": [
    {
     "data": {
      "image/png": "[encoded data removed]",
      "text/plain": [
       "<Figure size 1500x400 with 3 Axes>"
      ]
     },
     "metadata": {},
     "output_type": "display_data"
    }
   ],
   "source": [
    "# затем столбцы с \"маленькими\" значениями\n",
    "num_col_small = ['content_type_id', 'user_answer', 'answered_correctly']\n",
    "width = 3\n",
    "height = int(np.ceil(len(num_col_small) / width))\n",
    "fig, ax = plt.subplots(nrows = height, ncols = width, figsize = (15, 4))\n",
    "\n",
    "for idx, column_name in enumerate(num_col_small):\n",
    "    plt.subplot(height, width, idx + 1)\n",
    "    sns.histplot(data = trn_df, x = column_name, bins = 5, color = 'violet')"
   ]
  },
  {
   "attachments": {},
   "cell_type": "markdown",
   "metadata": {},
   "source": [
    "### Очищаем данные"
   ]
  },
  {
   "cell_type": "code",
   "execution_count": 76,
   "metadata": {},
   "outputs": [
    {
     "data": {
      "text/plain": [
       "row_id                                 0\n",
       "timestamp                              0\n",
       "user_id                                0\n",
       "content_id                             0\n",
       "content_type_id                        0\n",
       "task_container_id                      0\n",
       "user_answer                            0\n",
       "answered_correctly                     0\n",
       "prior_question_elapsed_time       467930\n",
       "prior_question_had_explanation     78053\n",
       "dtype: int64"
      ]
     },
     "execution_count": 76,
     "metadata": {},
     "output_type": "execute_result"
    }
   ],
   "source": [
    "# ищу пропуски в trn_df - есть 467930 в столбце времени ответа\n",
    "# и 78053 в столбце просмотра объяснений и правильных ответов\n",
    "trn_df.isna().sum()"
   ]
  },
  {
   "cell_type": "code",
   "execution_count": 77,
   "metadata": {},
   "outputs": [
    {
     "data": {
      "text/html": [
       "<div>\n",
       "<style scoped>\n",
       "    .dataframe tbody tr th:only-of-type {\n",
       "        vertical-align: middle;\n",
       "    }\n",
       "\n",
       "    .dataframe tbody tr th {\n",
       "        vertical-align: top;\n",
       "    }\n",
       "\n",
       "    .dataframe thead th {\n",
       "        text-align: right;\n",
       "    }\n",
       "</style>\n",
       "<table border=\"1\" class=\"dataframe\">\n",
       "  <thead>\n",
       "    <tr style=\"text-align: right;\">\n",
       "      <th></th>\n",
       "      <th>row_id</th>\n",
       "      <th>timestamp</th>\n",
       "      <th>user_id</th>\n",
       "      <th>content_id</th>\n",
       "      <th>content_type_id</th>\n",
       "      <th>task_container_id</th>\n",
       "      <th>user_answer</th>\n",
       "      <th>answered_correctly</th>\n",
       "      <th>prior_question_elapsed_time</th>\n",
       "      <th>prior_question_had_explanation</th>\n",
       "    </tr>\n",
       "  </thead>\n",
       "  <tbody>\n",
       "    <tr>\n",
       "      <th>0</th>\n",
       "      <td>0</td>\n",
       "      <td>0</td>\n",
       "      <td>115</td>\n",
       "      <td>5692</td>\n",
       "      <td>0</td>\n",
       "      <td>1</td>\n",
       "      <td>3</td>\n",
       "      <td>1</td>\n",
       "      <td>NaN</td>\n",
       "      <td>NaN</td>\n",
       "    </tr>\n",
       "    <tr>\n",
       "      <th>46</th>\n",
       "      <td>46</td>\n",
       "      <td>0</td>\n",
       "      <td>124</td>\n",
       "      <td>7900</td>\n",
       "      <td>0</td>\n",
       "      <td>0</td>\n",
       "      <td>0</td>\n",
       "      <td>1</td>\n",
       "      <td>NaN</td>\n",
       "      <td>NaN</td>\n",
       "    </tr>\n",
       "    <tr>\n",
       "      <th>76</th>\n",
       "      <td>76</td>\n",
       "      <td>0</td>\n",
       "      <td>2746</td>\n",
       "      <td>5273</td>\n",
       "      <td>0</td>\n",
       "      <td>0</td>\n",
       "      <td>1</td>\n",
       "      <td>0</td>\n",
       "      <td>NaN</td>\n",
       "      <td>NaN</td>\n",
       "    </tr>\n",
       "    <tr>\n",
       "      <th>89</th>\n",
       "      <td>89</td>\n",
       "      <td>653762</td>\n",
       "      <td>2746</td>\n",
       "      <td>6808</td>\n",
       "      <td>1</td>\n",
       "      <td>14</td>\n",
       "      <td>-1</td>\n",
       "      <td>-1</td>\n",
       "      <td>NaN</td>\n",
       "      <td>False</td>\n",
       "    </tr>\n",
       "    <tr>\n",
       "      <th>96</th>\n",
       "      <td>96</td>\n",
       "      <td>0</td>\n",
       "      <td>5382</td>\n",
       "      <td>5000</td>\n",
       "      <td>0</td>\n",
       "      <td>0</td>\n",
       "      <td>0</td>\n",
       "      <td>1</td>\n",
       "      <td>NaN</td>\n",
       "      <td>NaN</td>\n",
       "    </tr>\n",
       "    <tr>\n",
       "      <th>...</th>\n",
       "      <td>...</td>\n",
       "      <td>...</td>\n",
       "      <td>...</td>\n",
       "      <td>...</td>\n",
       "      <td>...</td>\n",
       "      <td>...</td>\n",
       "      <td>...</td>\n",
       "      <td>...</td>\n",
       "      <td>...</td>\n",
       "      <td>...</td>\n",
       "    </tr>\n",
       "    <tr>\n",
       "      <th>19999728</th>\n",
       "      <td>19999728</td>\n",
       "      <td>3739690327</td>\n",
       "      <td>429186902</td>\n",
       "      <td>16013</td>\n",
       "      <td>1</td>\n",
       "      <td>1056</td>\n",
       "      <td>-1</td>\n",
       "      <td>-1</td>\n",
       "      <td>NaN</td>\n",
       "      <td>False</td>\n",
       "    </tr>\n",
       "    <tr>\n",
       "      <th>19999742</th>\n",
       "      <td>19999742</td>\n",
       "      <td>3740714348</td>\n",
       "      <td>429186902</td>\n",
       "      <td>2327</td>\n",
       "      <td>1</td>\n",
       "      <td>1070</td>\n",
       "      <td>-1</td>\n",
       "      <td>-1</td>\n",
       "      <td>NaN</td>\n",
       "      <td>False</td>\n",
       "    </tr>\n",
       "    <tr>\n",
       "      <th>19999844</th>\n",
       "      <td>19999844</td>\n",
       "      <td>3916764184</td>\n",
       "      <td>429186902</td>\n",
       "      <td>27845</td>\n",
       "      <td>1</td>\n",
       "      <td>1143</td>\n",
       "      <td>-1</td>\n",
       "      <td>-1</td>\n",
       "      <td>NaN</td>\n",
       "      <td>False</td>\n",
       "    </tr>\n",
       "    <tr>\n",
       "      <th>19999925</th>\n",
       "      <td>19999925</td>\n",
       "      <td>4146042369</td>\n",
       "      <td>429186902</td>\n",
       "      <td>25401</td>\n",
       "      <td>1</td>\n",
       "      <td>1203</td>\n",
       "      <td>-1</td>\n",
       "      <td>-1</td>\n",
       "      <td>NaN</td>\n",
       "      <td>False</td>\n",
       "    </tr>\n",
       "    <tr>\n",
       "      <th>19999988</th>\n",
       "      <td>19999988</td>\n",
       "      <td>4256707088</td>\n",
       "      <td>429186902</td>\n",
       "      <td>12469</td>\n",
       "      <td>1</td>\n",
       "      <td>1233</td>\n",
       "      <td>-1</td>\n",
       "      <td>-1</td>\n",
       "      <td>NaN</td>\n",
       "      <td>False</td>\n",
       "    </tr>\n",
       "  </tbody>\n",
       "</table>\n",
       "<p>467930 rows × 10 columns</p>\n",
       "</div>"
      ],
      "text/plain": [
       "            row_id   timestamp    user_id  content_id  content_type_id  \\\n",
       "0                0           0        115        5692                0   \n",
       "46              46           0        124        7900                0   \n",
       "76              76           0       2746        5273                0   \n",
       "89              89      653762       2746        6808                1   \n",
       "96              96           0       5382        5000                0   \n",
       "...            ...         ...        ...         ...              ...   \n",
       "19999728  19999728  3739690327  429186902       16013                1   \n",
       "19999742  19999742  3740714348  429186902        2327                1   \n",
       "19999844  19999844  3916764184  429186902       27845                1   \n",
       "19999925  19999925  4146042369  429186902       25401                1   \n",
       "19999988  19999988  4256707088  429186902       12469                1   \n",
       "\n",
       "          task_container_id  user_answer  answered_correctly  \\\n",
       "0                         1            3                   1   \n",
       "46                        0            0                   1   \n",
       "76                        0            1                   0   \n",
       "89                       14           -1                  -1   \n",
       "96                        0            0                   1   \n",
       "...                     ...          ...                 ...   \n",
       "19999728               1056           -1                  -1   \n",
       "19999742               1070           -1                  -1   \n",
       "19999844               1143           -1                  -1   \n",
       "19999925               1203           -1                  -1   \n",
       "19999988               1233           -1                  -1   \n",
       "\n",
       "          prior_question_elapsed_time prior_question_had_explanation  \n",
       "0                                 NaN                            NaN  \n",
       "46                                NaN                            NaN  \n",
       "76                                NaN                            NaN  \n",
       "89                                NaN                          False  \n",
       "96                                NaN                            NaN  \n",
       "...                               ...                            ...  \n",
       "19999728                          NaN                          False  \n",
       "19999742                          NaN                          False  \n",
       "19999844                          NaN                          False  \n",
       "19999925                          NaN                          False  \n",
       "19999988                          NaN                          False  \n",
       "\n",
       "[467930 rows x 10 columns]"
      ]
     },
     "execution_count": 77,
     "metadata": {},
     "output_type": "execute_result"
    }
   ],
   "source": [
    "# вывожу пропуски в столбце времени ответа на каждый вопрос. \n",
    "# они объясняются условием: имеют значение null для 1-го набора вопросов или лекции.\n",
    "trn_df[trn_df.prior_question_elapsed_time.isna()]"
   ]
  },
  {
   "cell_type": "code",
   "execution_count": 78,
   "metadata": {},
   "outputs": [
    {
     "data": {
      "text/html": [
       "<div>\n",
       "<style scoped>\n",
       "    .dataframe tbody tr th:only-of-type {\n",
       "        vertical-align: middle;\n",
       "    }\n",
       "\n",
       "    .dataframe tbody tr th {\n",
       "        vertical-align: top;\n",
       "    }\n",
       "\n",
       "    .dataframe thead th {\n",
       "        text-align: right;\n",
       "    }\n",
       "</style>\n",
       "<table border=\"1\" class=\"dataframe\">\n",
       "  <thead>\n",
       "    <tr style=\"text-align: right;\">\n",
       "      <th></th>\n",
       "      <th>row_id</th>\n",
       "      <th>timestamp</th>\n",
       "      <th>user_id</th>\n",
       "      <th>content_id</th>\n",
       "      <th>content_type_id</th>\n",
       "      <th>task_container_id</th>\n",
       "      <th>user_answer</th>\n",
       "      <th>answered_correctly</th>\n",
       "      <th>prior_question_elapsed_time</th>\n",
       "      <th>prior_question_had_explanation</th>\n",
       "    </tr>\n",
       "  </thead>\n",
       "  <tbody>\n",
       "    <tr>\n",
       "      <th>0</th>\n",
       "      <td>0</td>\n",
       "      <td>0</td>\n",
       "      <td>115</td>\n",
       "      <td>5692</td>\n",
       "      <td>0</td>\n",
       "      <td>1</td>\n",
       "      <td>3</td>\n",
       "      <td>1</td>\n",
       "      <td>NaN</td>\n",
       "      <td>NaN</td>\n",
       "    </tr>\n",
       "    <tr>\n",
       "      <th>46</th>\n",
       "      <td>46</td>\n",
       "      <td>0</td>\n",
       "      <td>124</td>\n",
       "      <td>7900</td>\n",
       "      <td>0</td>\n",
       "      <td>0</td>\n",
       "      <td>0</td>\n",
       "      <td>1</td>\n",
       "      <td>NaN</td>\n",
       "      <td>NaN</td>\n",
       "    </tr>\n",
       "    <tr>\n",
       "      <th>76</th>\n",
       "      <td>76</td>\n",
       "      <td>0</td>\n",
       "      <td>2746</td>\n",
       "      <td>5273</td>\n",
       "      <td>0</td>\n",
       "      <td>0</td>\n",
       "      <td>1</td>\n",
       "      <td>0</td>\n",
       "      <td>NaN</td>\n",
       "      <td>NaN</td>\n",
       "    </tr>\n",
       "    <tr>\n",
       "      <th>96</th>\n",
       "      <td>96</td>\n",
       "      <td>0</td>\n",
       "      <td>5382</td>\n",
       "      <td>5000</td>\n",
       "      <td>0</td>\n",
       "      <td>0</td>\n",
       "      <td>0</td>\n",
       "      <td>1</td>\n",
       "      <td>NaN</td>\n",
       "      <td>NaN</td>\n",
       "    </tr>\n",
       "    <tr>\n",
       "      <th>224</th>\n",
       "      <td>224</td>\n",
       "      <td>0</td>\n",
       "      <td>8623</td>\n",
       "      <td>3915</td>\n",
       "      <td>0</td>\n",
       "      <td>0</td>\n",
       "      <td>3</td>\n",
       "      <td>1</td>\n",
       "      <td>NaN</td>\n",
       "      <td>NaN</td>\n",
       "    </tr>\n",
       "    <tr>\n",
       "      <th>...</th>\n",
       "      <td>...</td>\n",
       "      <td>...</td>\n",
       "      <td>...</td>\n",
       "      <td>...</td>\n",
       "      <td>...</td>\n",
       "      <td>...</td>\n",
       "      <td>...</td>\n",
       "      <td>...</td>\n",
       "      <td>...</td>\n",
       "      <td>...</td>\n",
       "    </tr>\n",
       "    <tr>\n",
       "      <th>19998154</th>\n",
       "      <td>19998154</td>\n",
       "      <td>0</td>\n",
       "      <td>429171967</td>\n",
       "      <td>3727</td>\n",
       "      <td>0</td>\n",
       "      <td>0</td>\n",
       "      <td>2</td>\n",
       "      <td>0</td>\n",
       "      <td>NaN</td>\n",
       "      <td>NaN</td>\n",
       "    </tr>\n",
       "    <tr>\n",
       "      <th>19998249</th>\n",
       "      <td>19998249</td>\n",
       "      <td>0</td>\n",
       "      <td>429176554</td>\n",
       "      <td>7900</td>\n",
       "      <td>0</td>\n",
       "      <td>0</td>\n",
       "      <td>0</td>\n",
       "      <td>1</td>\n",
       "      <td>NaN</td>\n",
       "      <td>NaN</td>\n",
       "    </tr>\n",
       "    <tr>\n",
       "      <th>19998321</th>\n",
       "      <td>19998321</td>\n",
       "      <td>0</td>\n",
       "      <td>429177936</td>\n",
       "      <td>5406</td>\n",
       "      <td>0</td>\n",
       "      <td>0</td>\n",
       "      <td>0</td>\n",
       "      <td>1</td>\n",
       "      <td>NaN</td>\n",
       "      <td>NaN</td>\n",
       "    </tr>\n",
       "    <tr>\n",
       "      <th>19998378</th>\n",
       "      <td>19998378</td>\n",
       "      <td>0</td>\n",
       "      <td>429179439</td>\n",
       "      <td>128</td>\n",
       "      <td>0</td>\n",
       "      <td>0</td>\n",
       "      <td>2</td>\n",
       "      <td>0</td>\n",
       "      <td>NaN</td>\n",
       "      <td>NaN</td>\n",
       "    </tr>\n",
       "    <tr>\n",
       "      <th>19998408</th>\n",
       "      <td>19998408</td>\n",
       "      <td>0</td>\n",
       "      <td>429186902</td>\n",
       "      <td>7900</td>\n",
       "      <td>0</td>\n",
       "      <td>0</td>\n",
       "      <td>2</td>\n",
       "      <td>0</td>\n",
       "      <td>NaN</td>\n",
       "      <td>NaN</td>\n",
       "    </tr>\n",
       "  </tbody>\n",
       "</table>\n",
       "<p>78053 rows × 10 columns</p>\n",
       "</div>"
      ],
      "text/plain": [
       "            row_id  timestamp    user_id  content_id  content_type_id  \\\n",
       "0                0          0        115        5692                0   \n",
       "46              46          0        124        7900                0   \n",
       "76              76          0       2746        5273                0   \n",
       "96              96          0       5382        5000                0   \n",
       "224            224          0       8623        3915                0   \n",
       "...            ...        ...        ...         ...              ...   \n",
       "19998154  19998154          0  429171967        3727                0   \n",
       "19998249  19998249          0  429176554        7900                0   \n",
       "19998321  19998321          0  429177936        5406                0   \n",
       "19998378  19998378          0  429179439         128                0   \n",
       "19998408  19998408          0  429186902        7900                0   \n",
       "\n",
       "          task_container_id  user_answer  answered_correctly  \\\n",
       "0                         1            3                   1   \n",
       "46                        0            0                   1   \n",
       "76                        0            1                   0   \n",
       "96                        0            0                   1   \n",
       "224                       0            3                   1   \n",
       "...                     ...          ...                 ...   \n",
       "19998154                  0            2                   0   \n",
       "19998249                  0            0                   1   \n",
       "19998321                  0            0                   1   \n",
       "19998378                  0            2                   0   \n",
       "19998408                  0            2                   0   \n",
       "\n",
       "          prior_question_elapsed_time prior_question_had_explanation  \n",
       "0                                 NaN                            NaN  \n",
       "46                                NaN                            NaN  \n",
       "76                                NaN                            NaN  \n",
       "96                                NaN                            NaN  \n",
       "224                               NaN                            NaN  \n",
       "...                               ...                            ...  \n",
       "19998154                          NaN                            NaN  \n",
       "19998249                          NaN                            NaN  \n",
       "19998321                          NaN                            NaN  \n",
       "19998378                          NaN                            NaN  \n",
       "19998408                          NaN                            NaN  \n",
       "\n",
       "[78053 rows x 10 columns]"
      ]
     },
     "execution_count": 78,
     "metadata": {},
     "output_type": "execute_result"
    }
   ],
   "source": [
    "# вывожу пропуски в столбце просмотра объяснений и правильных ответов. \n",
    "# они объясняются условием: имеют значение null для 1-го набора вопросов или лекции.\n",
    "trn_df[trn_df.prior_question_had_explanation.isna()]"
   ]
  },
  {
   "cell_type": "code",
   "execution_count": 79,
   "metadata": {},
   "outputs": [
    {
     "data": {
      "text/plain": [
       "0"
      ]
     },
     "execution_count": 79,
     "metadata": {},
     "output_type": "execute_result"
    }
   ],
   "source": [
    "# ищу дубликаты в trn_df, они отсутствуют\n",
    "trn_df.duplicated().sum() "
   ]
  },
  {
   "cell_type": "code",
   "execution_count": 80,
   "metadata": {},
   "outputs": [
    {
     "name": "stdout",
     "output_type": "stream",
     "text": [
      "<class 'pandas.core.frame.DataFrame'>\n",
      "RangeIndex: 20000000 entries, 0 to 19999999\n",
      "Data columns (total 10 columns):\n",
      " #   Column                          Dtype  \n",
      "---  ------                          -----  \n",
      " 0   row_id                          int64  \n",
      " 1   timestamp                       int64  \n",
      " 2   user_id                         int64  \n",
      " 3   content_id                      int64  \n",
      " 4   content_type_id                 int64  \n",
      " 5   task_container_id               int64  \n",
      " 6   user_answer                     int64  \n",
      " 7   answered_correctly              int64  \n",
      " 8   prior_question_elapsed_time     float64\n",
      " 9   prior_question_had_explanation  object \n",
      "dtypes: float64(1), int64(8), object(1)\n",
      "memory usage: 1.5+ GB\n"
     ]
    }
   ],
   "source": [
    "# вывожу справку о кол-ве значений в каждом столбце и тип данных trn_df\n",
    "trn_df.info()"
   ]
  },
  {
   "attachments": {},
   "cell_type": "markdown",
   "metadata": {},
   "source": [
    "**Из представленных графиков и статистических данных можно сделать следующие выводы:**\n",
    "- столбец **row_id** не представляет интереса для исследования и может быть \"исключен\"\n",
    "- trn_df занимает 1.5+ GB памяти\n",
    "- имеет смысл изменить формат хранения некоторых данных для уменьшения занимаемого объёма памяти, и увеличения скорости исследования"
   ]
  },
  {
   "cell_type": "code",
   "execution_count": 81,
   "metadata": {},
   "outputs": [
    {
     "name": "stdout",
     "output_type": "stream",
     "text": [
      "<class 'pandas.core.frame.DataFrame'>\n",
      "RangeIndex: 20000000 entries, 0 to 19999999\n",
      "Data columns (total 9 columns):\n",
      " #   Column                          Dtype  \n",
      "---  ------                          -----  \n",
      " 0   timestamp                       uint64 \n",
      " 1   user_id                         uint32 \n",
      " 2   content_id                      uint16 \n",
      " 3   content_type_id                 int8   \n",
      " 4   task_container_id               uint16 \n",
      " 5   user_answer                     int8   \n",
      " 6   answered_correctly              int8   \n",
      " 7   prior_question_elapsed_time     float32\n",
      " 8   prior_question_had_explanation  object \n",
      "dtypes: float32(1), int8(3), object(1), uint16(2), uint32(1), uint64(1)\n",
      "memory usage: 591.3+ MB\n"
     ]
    }
   ],
   "source": [
    "trn_df = trn_df.drop('row_id', axis = 1) # убираю столбец идентификации строки \n",
    "# изменяю формат хранения некоторых данных trn_df\n",
    "trn_df['timestamp'] = trn_df['timestamp'].astype('uint64')\n",
    "trn_df['user_id'] = trn_df['user_id'].astype('uint32')\n",
    "trn_df['content_id'] = trn_df['content_id'].astype('uint16')\n",
    "trn_df['content_type_id'] = trn_df['content_type_id'].astype('int8')\n",
    "trn_df['task_container_id'] = trn_df['task_container_id'].astype('uint16')\n",
    "trn_df['user_answer'] = trn_df['user_answer'].astype('int8')\n",
    "trn_df['answered_correctly'] = trn_df['answered_correctly'].astype('int8')\n",
    "trn_df['prior_question_elapsed_time'] = trn_df['prior_question_elapsed_time'].astype('float32')\n",
    "trn_df.info() # вывела справку о кол-ве значений в каждом столбце и типе данных trn_df"
   ]
  },
  {
   "cell_type": "code",
   "execution_count": 82,
   "metadata": {},
   "outputs": [
    {
     "name": "stdout",
     "output_type": "stream",
     "text": [
      "2.5\n"
     ]
    }
   ],
   "source": [
    "# после очистки данных объём занимаемой памяти снизился с 1,5 GB до 591,3 MB\n",
    "print(round(1500 / 591.3, 1))"
   ]
  },
  {
   "attachments": {},
   "cell_type": "markdown",
   "metadata": {},
   "source": [
    "**После очистки данных объём памяти, занимаемой trn_df, уменьшился с 1.5 GB до 591.3 MB, т.е. в 2.5 раза!**"
   ]
  },
  {
   "cell_type": "markdown",
   "metadata": {},
   "source": [
    "### Рассмотрим корреляцию числовых признаков и их связь с успеваемостью студентов"
   ]
  },
  {
   "cell_type": "code",
   "execution_count": 92,
   "metadata": {},
   "outputs": [
    {
     "data": {
      "text/html": [
       "<style type=\"text/css\">\n",
       "#T_593b5_row0_col0, #T_593b5_row1_col1, #T_593b5_row2_col2, #T_593b5_row3_col3, #T_593b5_row4_col4, #T_593b5_row5_col5, #T_593b5_row6_col6, #T_593b5_row7_col7 {\n",
       "  background-color: #a9373b;\n",
       "  color: #f1f1f1;\n",
       "}\n",
       "#T_593b5_row0_col1, #T_593b5_row0_col3, #T_593b5_row0_col5, #T_593b5_row0_col7, #T_593b5_row1_col0, #T_593b5_row1_col2, #T_593b5_row1_col4, #T_593b5_row2_col1, #T_593b5_row3_col0, #T_593b5_row4_col1, #T_593b5_row4_col5, #T_593b5_row5_col0, #T_593b5_row5_col4, #T_593b5_row5_col7, #T_593b5_row7_col0, #T_593b5_row7_col5 {\n",
       "  background-color: #faf5f4;\n",
       "  color: #000000;\n",
       "}\n",
       "#T_593b5_row0_col2, #T_593b5_row2_col0 {\n",
       "  background-color: #faf0ef;\n",
       "  color: #000000;\n",
       "}\n",
       "#T_593b5_row0_col4, #T_593b5_row2_col3, #T_593b5_row3_col2, #T_593b5_row4_col0 {\n",
       "  background-color: #daa8a5;\n",
       "  color: #000000;\n",
       "}\n",
       "#T_593b5_row0_col6, #T_593b5_row6_col0 {\n",
       "  background-color: #faf3f3;\n",
       "  color: #000000;\n",
       "}\n",
       "#T_593b5_row1_col3, #T_593b5_row1_col5, #T_593b5_row1_col6, #T_593b5_row1_col7, #T_593b5_row3_col1, #T_593b5_row5_col1, #T_593b5_row6_col1, #T_593b5_row6_col7, #T_593b5_row7_col1, #T_593b5_row7_col6 {\n",
       "  background-color: #faf5f5;\n",
       "  color: #000000;\n",
       "}\n",
       "#T_593b5_row2_col4, #T_593b5_row4_col2 {\n",
       "  background-color: #faf2f1;\n",
       "  color: #000000;\n",
       "}\n",
       "#T_593b5_row2_col5, #T_593b5_row5_col2 {\n",
       "  background-color: #ecebef;\n",
       "  color: #000000;\n",
       "}\n",
       "#T_593b5_row2_col6, #T_593b5_row6_col2 {\n",
       "  background-color: #d9dce5;\n",
       "  color: #000000;\n",
       "}\n",
       "#T_593b5_row2_col7, #T_593b5_row7_col2 {\n",
       "  background-color: #f1dddb;\n",
       "  color: #000000;\n",
       "}\n",
       "#T_593b5_row3_col4, #T_593b5_row4_col3, #T_593b5_row4_col7, #T_593b5_row7_col4 {\n",
       "  background-color: #f9f5f5;\n",
       "  color: #000000;\n",
       "}\n",
       "#T_593b5_row3_col5, #T_593b5_row5_col3 {\n",
       "  background-color: #c8cfdd;\n",
       "  color: #000000;\n",
       "}\n",
       "#T_593b5_row3_col6, #T_593b5_row6_col3 {\n",
       "  background-color: #a7b6ce;\n",
       "  color: #000000;\n",
       "}\n",
       "#T_593b5_row3_col7, #T_593b5_row7_col3 {\n",
       "  background-color: #000000;\n",
       "  color: #f1f1f1;\n",
       "}\n",
       "#T_593b5_row4_col6, #T_593b5_row6_col4 {\n",
       "  background-color: #f9efee;\n",
       "  color: #000000;\n",
       "}\n",
       "#T_593b5_row5_col6, #T_593b5_row6_col5 {\n",
       "  background-color: #f3e2e0;\n",
       "  color: #000000;\n",
       "}\n",
       "</style>\n",
       "<table id=\"T_593b5\">\n",
       "  <thead>\n",
       "    <tr>\n",
       "      <th class=\"blank level0\" >&nbsp;</th>\n",
       "      <th id=\"T_593b5_level0_col0\" class=\"col_heading level0 col0\" >timestamp</th>\n",
       "      <th id=\"T_593b5_level0_col1\" class=\"col_heading level0 col1\" >user_id</th>\n",
       "      <th id=\"T_593b5_level0_col2\" class=\"col_heading level0 col2\" >content_id</th>\n",
       "      <th id=\"T_593b5_level0_col3\" class=\"col_heading level0 col3\" >content_type_id</th>\n",
       "      <th id=\"T_593b5_level0_col4\" class=\"col_heading level0 col4\" >task_container_id</th>\n",
       "      <th id=\"T_593b5_level0_col5\" class=\"col_heading level0 col5\" >user_answer</th>\n",
       "      <th id=\"T_593b5_level0_col6\" class=\"col_heading level0 col6\" >answered_correctly</th>\n",
       "      <th id=\"T_593b5_level0_col7\" class=\"col_heading level0 col7\" >prior_question_elapsed_time</th>\n",
       "    </tr>\n",
       "  </thead>\n",
       "  <tbody>\n",
       "    <tr>\n",
       "      <th id=\"T_593b5_level0_row0\" class=\"row_heading level0 row0\" >timestamp</th>\n",
       "      <td id=\"T_593b5_row0_col0\" class=\"data row0 col0\" >1.000000</td>\n",
       "      <td id=\"T_593b5_row0_col1\" class=\"data row0 col1\" >0.000929</td>\n",
       "      <td id=\"T_593b5_row0_col2\" class=\"data row0 col2\" >0.052347</td>\n",
       "      <td id=\"T_593b5_row0_col3\" class=\"data row0 col3\" >0.000928</td>\n",
       "      <td id=\"T_593b5_row0_col4\" class=\"data row0 col4\" >0.418723</td>\n",
       "      <td id=\"T_593b5_row0_col5\" class=\"data row0 col5\" >0.000707</td>\n",
       "      <td id=\"T_593b5_row0_col6\" class=\"data row0 col6\" >0.024568</td>\n",
       "      <td id=\"T_593b5_row0_col7\" class=\"data row0 col7\" >0.012501</td>\n",
       "    </tr>\n",
       "    <tr>\n",
       "      <th id=\"T_593b5_level0_row1\" class=\"row_heading level0 row1\" >user_id</th>\n",
       "      <td id=\"T_593b5_row1_col0\" class=\"data row1 col0\" >0.000929</td>\n",
       "      <td id=\"T_593b5_row1_col1\" class=\"data row1 col1\" >1.000000</td>\n",
       "      <td id=\"T_593b5_row1_col2\" class=\"data row1 col2\" >0.001799</td>\n",
       "      <td id=\"T_593b5_row1_col3\" class=\"data row1 col3\" >-0.000204</td>\n",
       "      <td id=\"T_593b5_row1_col4\" class=\"data row1 col4\" >0.005370</td>\n",
       "      <td id=\"T_593b5_row1_col5\" class=\"data row1 col5\" >-0.000314</td>\n",
       "      <td id=\"T_593b5_row1_col6\" class=\"data row1 col6\" >-0.000132</td>\n",
       "      <td id=\"T_593b5_row1_col7\" class=\"data row1 col7\" >-0.004439</td>\n",
       "    </tr>\n",
       "    <tr>\n",
       "      <th id=\"T_593b5_level0_row2\" class=\"row_heading level0 row2\" >content_id</th>\n",
       "      <td id=\"T_593b5_row2_col0\" class=\"data row2 col0\" >0.052347</td>\n",
       "      <td id=\"T_593b5_row2_col1\" class=\"data row2 col1\" >0.001799</td>\n",
       "      <td id=\"T_593b5_row2_col2\" class=\"data row2 col2\" >1.000000</td>\n",
       "      <td id=\"T_593b5_row2_col3\" class=\"data row2 col3\" >0.415811</td>\n",
       "      <td id=\"T_593b5_row2_col4\" class=\"data row2 col4\" >0.042288</td>\n",
       "      <td id=\"T_593b5_row2_col5\" class=\"data row2 col5\" >-0.107344</td>\n",
       "      <td id=\"T_593b5_row2_col6\" class=\"data row2 col6\" >-0.198648</td>\n",
       "      <td id=\"T_593b5_row2_col7\" class=\"data row2 col7\" >0.151080</td>\n",
       "    </tr>\n",
       "    <tr>\n",
       "      <th id=\"T_593b5_level0_row3\" class=\"row_heading level0 row3\" >content_type_id</th>\n",
       "      <td id=\"T_593b5_row3_col0\" class=\"data row3 col0\" >0.000928</td>\n",
       "      <td id=\"T_593b5_row3_col1\" class=\"data row3 col1\" >-0.000204</td>\n",
       "      <td id=\"T_593b5_row3_col2\" class=\"data row3 col2\" >0.415811</td>\n",
       "      <td id=\"T_593b5_row3_col3\" class=\"data row3 col3\" >1.000000</td>\n",
       "      <td id=\"T_593b5_row3_col4\" class=\"data row3 col4\" >-0.019398</td>\n",
       "      <td id=\"T_593b5_row3_col5\" class=\"data row3 col5\" >-0.280714</td>\n",
       "      <td id=\"T_593b5_row3_col6\" class=\"data row3 col6\" >-0.438399</td>\n",
       "      <td id=\"T_593b5_row3_col7\" class=\"data row3 col7\" >nan</td>\n",
       "    </tr>\n",
       "    <tr>\n",
       "      <th id=\"T_593b5_level0_row4\" class=\"row_heading level0 row4\" >task_container_id</th>\n",
       "      <td id=\"T_593b5_row4_col0\" class=\"data row4 col0\" >0.418723</td>\n",
       "      <td id=\"T_593b5_row4_col1\" class=\"data row4 col1\" >0.005370</td>\n",
       "      <td id=\"T_593b5_row4_col2\" class=\"data row4 col2\" >0.042288</td>\n",
       "      <td id=\"T_593b5_row4_col3\" class=\"data row4 col3\" >-0.019398</td>\n",
       "      <td id=\"T_593b5_row4_col4\" class=\"data row4 col4\" >1.000000</td>\n",
       "      <td id=\"T_593b5_row4_col5\" class=\"data row4 col5\" >0.008630</td>\n",
       "      <td id=\"T_593b5_row4_col6\" class=\"data row4 col6\" >0.058217</td>\n",
       "      <td id=\"T_593b5_row4_col7\" class=\"data row4 col7\" >-0.016697</td>\n",
       "    </tr>\n",
       "    <tr>\n",
       "      <th id=\"T_593b5_level0_row5\" class=\"row_heading level0 row5\" >user_answer</th>\n",
       "      <td id=\"T_593b5_row5_col0\" class=\"data row5 col0\" >0.000707</td>\n",
       "      <td id=\"T_593b5_row5_col1\" class=\"data row5 col1\" >-0.000314</td>\n",
       "      <td id=\"T_593b5_row5_col2\" class=\"data row5 col2\" >-0.107344</td>\n",
       "      <td id=\"T_593b5_row5_col3\" class=\"data row5 col3\" >-0.280714</td>\n",
       "      <td id=\"T_593b5_row5_col4\" class=\"data row5 col4\" >0.008630</td>\n",
       "      <td id=\"T_593b5_row5_col5\" class=\"data row5 col5\" >1.000000</td>\n",
       "      <td id=\"T_593b5_row5_col6\" class=\"data row5 col6\" >0.126985</td>\n",
       "      <td id=\"T_593b5_row5_col7\" class=\"data row5 col7\" >0.014332</td>\n",
       "    </tr>\n",
       "    <tr>\n",
       "      <th id=\"T_593b5_level0_row6\" class=\"row_heading level0 row6\" >answered_correctly</th>\n",
       "      <td id=\"T_593b5_row6_col0\" class=\"data row6 col0\" >0.024568</td>\n",
       "      <td id=\"T_593b5_row6_col1\" class=\"data row6 col1\" >-0.000132</td>\n",
       "      <td id=\"T_593b5_row6_col2\" class=\"data row6 col2\" >-0.198648</td>\n",
       "      <td id=\"T_593b5_row6_col3\" class=\"data row6 col3\" >-0.438399</td>\n",
       "      <td id=\"T_593b5_row6_col4\" class=\"data row6 col4\" >0.058217</td>\n",
       "      <td id=\"T_593b5_row6_col5\" class=\"data row6 col5\" >0.126985</td>\n",
       "      <td id=\"T_593b5_row6_col6\" class=\"data row6 col6\" >1.000000</td>\n",
       "      <td id=\"T_593b5_row6_col7\" class=\"data row6 col7\" >-0.008316</td>\n",
       "    </tr>\n",
       "    <tr>\n",
       "      <th id=\"T_593b5_level0_row7\" class=\"row_heading level0 row7\" >prior_question_elapsed_time</th>\n",
       "      <td id=\"T_593b5_row7_col0\" class=\"data row7 col0\" >0.012501</td>\n",
       "      <td id=\"T_593b5_row7_col1\" class=\"data row7 col1\" >-0.004439</td>\n",
       "      <td id=\"T_593b5_row7_col2\" class=\"data row7 col2\" >0.151080</td>\n",
       "      <td id=\"T_593b5_row7_col3\" class=\"data row7 col3\" >nan</td>\n",
       "      <td id=\"T_593b5_row7_col4\" class=\"data row7 col4\" >-0.016697</td>\n",
       "      <td id=\"T_593b5_row7_col5\" class=\"data row7 col5\" >0.014332</td>\n",
       "      <td id=\"T_593b5_row7_col6\" class=\"data row7 col6\" >-0.008316</td>\n",
       "      <td id=\"T_593b5_row7_col7\" class=\"data row7 col7\" >1.000000</td>\n",
       "    </tr>\n",
       "  </tbody>\n",
       "</table>\n"
      ],
      "text/plain": [
       "<pandas.io.formats.style.Styler at 0x28402431060>"
      ]
     },
     "execution_count": 92,
     "metadata": {},
     "output_type": "execute_result"
    }
   ],
   "source": [
    "cm = sns.color_palette(\"vlag\", as_cmap = True)\n",
    "trn_df_corr = trn_df.loc[:,['timestamp', 'user_id', 'content_id', 'content_type_id', 'task_container_id', 'user_answer', 'answered_correctly', 'prior_question_elapsed_time']]\n",
    "trn_df_corr.corr().style.background_gradient(cmap = cm, vmin = -1, vmax = 1)"
   ]
  },
  {
   "cell_type": "code",
   "execution_count": 93,
   "metadata": {},
   "outputs": [
    {
     "data": {
      "text/html": [
       "<style type=\"text/css\">\n",
       "#T_98ae6_row0_col0, #T_98ae6_row1_col1, #T_98ae6_row2_col2, #T_98ae6_row3_col3, #T_98ae6_row4_col4, #T_98ae6_row5_col5, #T_98ae6_row6_col6, #T_98ae6_row7_col7, #T_98ae6_row8_col8 {\n",
       "  background-color: #a9373b;\n",
       "  color: #f1f1f1;\n",
       "}\n",
       "#T_98ae6_row0_col1, #T_98ae6_row0_col3, #T_98ae6_row0_col5, #T_98ae6_row0_col7, #T_98ae6_row1_col0, #T_98ae6_row1_col2, #T_98ae6_row1_col4, #T_98ae6_row1_col8, #T_98ae6_row2_col1, #T_98ae6_row3_col0, #T_98ae6_row4_col1, #T_98ae6_row4_col5, #T_98ae6_row5_col0, #T_98ae6_row5_col4, #T_98ae6_row5_col7, #T_98ae6_row7_col0, #T_98ae6_row7_col5, #T_98ae6_row8_col1 {\n",
       "  background-color: #faf5f4;\n",
       "  color: #000000;\n",
       "}\n",
       "#T_98ae6_row0_col2, #T_98ae6_row2_col0 {\n",
       "  background-color: #faf0ef;\n",
       "  color: #000000;\n",
       "}\n",
       "#T_98ae6_row0_col4, #T_98ae6_row2_col3, #T_98ae6_row3_col2, #T_98ae6_row4_col0 {\n",
       "  background-color: #daa8a5;\n",
       "  color: #000000;\n",
       "}\n",
       "#T_98ae6_row0_col6, #T_98ae6_row0_col8, #T_98ae6_row6_col0, #T_98ae6_row8_col0 {\n",
       "  background-color: #faf3f3;\n",
       "  color: #000000;\n",
       "}\n",
       "#T_98ae6_row1_col3, #T_98ae6_row1_col5, #T_98ae6_row1_col6, #T_98ae6_row1_col7, #T_98ae6_row3_col1, #T_98ae6_row5_col1, #T_98ae6_row6_col1, #T_98ae6_row6_col7, #T_98ae6_row7_col1, #T_98ae6_row7_col6 {\n",
       "  background-color: #faf5f5;\n",
       "  color: #000000;\n",
       "}\n",
       "#T_98ae6_row2_col4, #T_98ae6_row4_col2 {\n",
       "  background-color: #faf2f1;\n",
       "  color: #000000;\n",
       "}\n",
       "#T_98ae6_row2_col5, #T_98ae6_row5_col2 {\n",
       "  background-color: #ecebef;\n",
       "  color: #000000;\n",
       "}\n",
       "#T_98ae6_row2_col6, #T_98ae6_row6_col2 {\n",
       "  background-color: #d9dce5;\n",
       "  color: #000000;\n",
       "}\n",
       "#T_98ae6_row2_col7, #T_98ae6_row7_col2 {\n",
       "  background-color: #f1dddb;\n",
       "  color: #000000;\n",
       "}\n",
       "#T_98ae6_row2_col8, #T_98ae6_row8_col2 {\n",
       "  background-color: #f7ebea;\n",
       "  color: #000000;\n",
       "}\n",
       "#T_98ae6_row3_col4, #T_98ae6_row4_col3, #T_98ae6_row4_col7, #T_98ae6_row7_col4, #T_98ae6_row7_col8, #T_98ae6_row8_col7 {\n",
       "  background-color: #f9f5f5;\n",
       "  color: #000000;\n",
       "}\n",
       "#T_98ae6_row3_col5, #T_98ae6_row5_col3 {\n",
       "  background-color: #c8cfdd;\n",
       "  color: #000000;\n",
       "}\n",
       "#T_98ae6_row3_col6, #T_98ae6_row6_col3 {\n",
       "  background-color: #a7b6ce;\n",
       "  color: #000000;\n",
       "}\n",
       "#T_98ae6_row3_col7, #T_98ae6_row7_col3 {\n",
       "  background-color: #000000;\n",
       "  color: #f1f1f1;\n",
       "}\n",
       "#T_98ae6_row3_col8, #T_98ae6_row8_col3 {\n",
       "  background-color: #e8cac8;\n",
       "  color: #000000;\n",
       "}\n",
       "#T_98ae6_row4_col6, #T_98ae6_row6_col4 {\n",
       "  background-color: #f9efee;\n",
       "  color: #000000;\n",
       "}\n",
       "#T_98ae6_row4_col8, #T_98ae6_row8_col4 {\n",
       "  background-color: #faf3f2;\n",
       "  color: #000000;\n",
       "}\n",
       "#T_98ae6_row5_col6, #T_98ae6_row6_col5 {\n",
       "  background-color: #f3e2e0;\n",
       "  color: #000000;\n",
       "}\n",
       "#T_98ae6_row5_col8, #T_98ae6_row8_col5 {\n",
       "  background-color: #95a9c8;\n",
       "  color: #f1f1f1;\n",
       "}\n",
       "#T_98ae6_row6_col8, #T_98ae6_row8_col6 {\n",
       "  background-color: #d19290;\n",
       "  color: #f1f1f1;\n",
       "}\n",
       "</style>\n",
       "<table id=\"T_98ae6\">\n",
       "  <thead>\n",
       "    <tr>\n",
       "      <th class=\"blank level0\" >&nbsp;</th>\n",
       "      <th id=\"T_98ae6_level0_col0\" class=\"col_heading level0 col0\" >timestamp</th>\n",
       "      <th id=\"T_98ae6_level0_col1\" class=\"col_heading level0 col1\" >user_id</th>\n",
       "      <th id=\"T_98ae6_level0_col2\" class=\"col_heading level0 col2\" >content_id</th>\n",
       "      <th id=\"T_98ae6_level0_col3\" class=\"col_heading level0 col3\" >content_type_id</th>\n",
       "      <th id=\"T_98ae6_level0_col4\" class=\"col_heading level0 col4\" >task_container_id</th>\n",
       "      <th id=\"T_98ae6_level0_col5\" class=\"col_heading level0 col5\" >user_answer</th>\n",
       "      <th id=\"T_98ae6_level0_col6\" class=\"col_heading level0 col6\" >answered_correctly</th>\n",
       "      <th id=\"T_98ae6_level0_col7\" class=\"col_heading level0 col7\" >prior_question_elapsed_time</th>\n",
       "      <th id=\"T_98ae6_level0_col8\" class=\"col_heading level0 col8\" >cor_ratio</th>\n",
       "    </tr>\n",
       "  </thead>\n",
       "  <tbody>\n",
       "    <tr>\n",
       "      <th id=\"T_98ae6_level0_row0\" class=\"row_heading level0 row0\" >timestamp</th>\n",
       "      <td id=\"T_98ae6_row0_col0\" class=\"data row0 col0\" >1.000000</td>\n",
       "      <td id=\"T_98ae6_row0_col1\" class=\"data row0 col1\" >0.000929</td>\n",
       "      <td id=\"T_98ae6_row0_col2\" class=\"data row0 col2\" >0.052347</td>\n",
       "      <td id=\"T_98ae6_row0_col3\" class=\"data row0 col3\" >0.000928</td>\n",
       "      <td id=\"T_98ae6_row0_col4\" class=\"data row0 col4\" >0.418723</td>\n",
       "      <td id=\"T_98ae6_row0_col5\" class=\"data row0 col5\" >0.000707</td>\n",
       "      <td id=\"T_98ae6_row0_col6\" class=\"data row0 col6\" >0.024568</td>\n",
       "      <td id=\"T_98ae6_row0_col7\" class=\"data row0 col7\" >0.012501</td>\n",
       "      <td id=\"T_98ae6_row0_col8\" class=\"data row0 col8\" >0.023690</td>\n",
       "    </tr>\n",
       "    <tr>\n",
       "      <th id=\"T_98ae6_level0_row1\" class=\"row_heading level0 row1\" >user_id</th>\n",
       "      <td id=\"T_98ae6_row1_col0\" class=\"data row1 col0\" >0.000929</td>\n",
       "      <td id=\"T_98ae6_row1_col1\" class=\"data row1 col1\" >1.000000</td>\n",
       "      <td id=\"T_98ae6_row1_col2\" class=\"data row1 col2\" >0.001799</td>\n",
       "      <td id=\"T_98ae6_row1_col3\" class=\"data row1 col3\" >-0.000204</td>\n",
       "      <td id=\"T_98ae6_row1_col4\" class=\"data row1 col4\" >0.005370</td>\n",
       "      <td id=\"T_98ae6_row1_col5\" class=\"data row1 col5\" >-0.000314</td>\n",
       "      <td id=\"T_98ae6_row1_col6\" class=\"data row1 col6\" >-0.000132</td>\n",
       "      <td id=\"T_98ae6_row1_col7\" class=\"data row1 col7\" >-0.004439</td>\n",
       "      <td id=\"T_98ae6_row1_col8\" class=\"data row1 col8\" >0.000127</td>\n",
       "    </tr>\n",
       "    <tr>\n",
       "      <th id=\"T_98ae6_level0_row2\" class=\"row_heading level0 row2\" >content_id</th>\n",
       "      <td id=\"T_98ae6_row2_col0\" class=\"data row2 col0\" >0.052347</td>\n",
       "      <td id=\"T_98ae6_row2_col1\" class=\"data row2 col1\" >0.001799</td>\n",
       "      <td id=\"T_98ae6_row2_col2\" class=\"data row2 col2\" >1.000000</td>\n",
       "      <td id=\"T_98ae6_row2_col3\" class=\"data row2 col3\" >0.415811</td>\n",
       "      <td id=\"T_98ae6_row2_col4\" class=\"data row2 col4\" >0.042288</td>\n",
       "      <td id=\"T_98ae6_row2_col5\" class=\"data row2 col5\" >-0.107344</td>\n",
       "      <td id=\"T_98ae6_row2_col6\" class=\"data row2 col6\" >-0.198648</td>\n",
       "      <td id=\"T_98ae6_row2_col7\" class=\"data row2 col7\" >0.151080</td>\n",
       "      <td id=\"T_98ae6_row2_col8\" class=\"data row2 col8\" >0.079188</td>\n",
       "    </tr>\n",
       "    <tr>\n",
       "      <th id=\"T_98ae6_level0_row3\" class=\"row_heading level0 row3\" >content_type_id</th>\n",
       "      <td id=\"T_98ae6_row3_col0\" class=\"data row3 col0\" >0.000928</td>\n",
       "      <td id=\"T_98ae6_row3_col1\" class=\"data row3 col1\" >-0.000204</td>\n",
       "      <td id=\"T_98ae6_row3_col2\" class=\"data row3 col2\" >0.415811</td>\n",
       "      <td id=\"T_98ae6_row3_col3\" class=\"data row3 col3\" >1.000000</td>\n",
       "      <td id=\"T_98ae6_row3_col4\" class=\"data row3 col4\" >-0.019398</td>\n",
       "      <td id=\"T_98ae6_row3_col5\" class=\"data row3 col5\" >-0.280714</td>\n",
       "      <td id=\"T_98ae6_row3_col6\" class=\"data row3 col6\" >-0.438399</td>\n",
       "      <td id=\"T_98ae6_row3_col7\" class=\"data row3 col7\" >nan</td>\n",
       "      <td id=\"T_98ae6_row3_col8\" class=\"data row3 col8\" >0.245443</td>\n",
       "    </tr>\n",
       "    <tr>\n",
       "      <th id=\"T_98ae6_level0_row4\" class=\"row_heading level0 row4\" >task_container_id</th>\n",
       "      <td id=\"T_98ae6_row4_col0\" class=\"data row4 col0\" >0.418723</td>\n",
       "      <td id=\"T_98ae6_row4_col1\" class=\"data row4 col1\" >0.005370</td>\n",
       "      <td id=\"T_98ae6_row4_col2\" class=\"data row4 col2\" >0.042288</td>\n",
       "      <td id=\"T_98ae6_row4_col3\" class=\"data row4 col3\" >-0.019398</td>\n",
       "      <td id=\"T_98ae6_row4_col4\" class=\"data row4 col4\" >1.000000</td>\n",
       "      <td id=\"T_98ae6_row4_col5\" class=\"data row4 col5\" >0.008630</td>\n",
       "      <td id=\"T_98ae6_row4_col6\" class=\"data row4 col6\" >0.058217</td>\n",
       "      <td id=\"T_98ae6_row4_col7\" class=\"data row4 col7\" >-0.016697</td>\n",
       "      <td id=\"T_98ae6_row4_col8\" class=\"data row4 col8\" >0.037919</td>\n",
       "    </tr>\n",
       "    <tr>\n",
       "      <th id=\"T_98ae6_level0_row5\" class=\"row_heading level0 row5\" >user_answer</th>\n",
       "      <td id=\"T_98ae6_row5_col0\" class=\"data row5 col0\" >0.000707</td>\n",
       "      <td id=\"T_98ae6_row5_col1\" class=\"data row5 col1\" >-0.000314</td>\n",
       "      <td id=\"T_98ae6_row5_col2\" class=\"data row5 col2\" >-0.107344</td>\n",
       "      <td id=\"T_98ae6_row5_col3\" class=\"data row5 col3\" >-0.280714</td>\n",
       "      <td id=\"T_98ae6_row5_col4\" class=\"data row5 col4\" >0.008630</td>\n",
       "      <td id=\"T_98ae6_row5_col5\" class=\"data row5 col5\" >1.000000</td>\n",
       "      <td id=\"T_98ae6_row5_col6\" class=\"data row5 col6\" >0.126985</td>\n",
       "      <td id=\"T_98ae6_row5_col7\" class=\"data row5 col7\" >0.014332</td>\n",
       "      <td id=\"T_98ae6_row5_col8\" class=\"data row5 col8\" >-0.530821</td>\n",
       "    </tr>\n",
       "    <tr>\n",
       "      <th id=\"T_98ae6_level0_row6\" class=\"row_heading level0 row6\" >answered_correctly</th>\n",
       "      <td id=\"T_98ae6_row6_col0\" class=\"data row6 col0\" >0.024568</td>\n",
       "      <td id=\"T_98ae6_row6_col1\" class=\"data row6 col1\" >-0.000132</td>\n",
       "      <td id=\"T_98ae6_row6_col2\" class=\"data row6 col2\" >-0.198648</td>\n",
       "      <td id=\"T_98ae6_row6_col3\" class=\"data row6 col3\" >-0.438399</td>\n",
       "      <td id=\"T_98ae6_row6_col4\" class=\"data row6 col4\" >0.058217</td>\n",
       "      <td id=\"T_98ae6_row6_col5\" class=\"data row6 col5\" >0.126985</td>\n",
       "      <td id=\"T_98ae6_row6_col6\" class=\"data row6 col6\" >1.000000</td>\n",
       "      <td id=\"T_98ae6_row6_col7\" class=\"data row6 col7\" >-0.008316</td>\n",
       "      <td id=\"T_98ae6_row6_col8\" class=\"data row6 col8\" >0.531130</td>\n",
       "    </tr>\n",
       "    <tr>\n",
       "      <th id=\"T_98ae6_level0_row7\" class=\"row_heading level0 row7\" >prior_question_elapsed_time</th>\n",
       "      <td id=\"T_98ae6_row7_col0\" class=\"data row7 col0\" >0.012501</td>\n",
       "      <td id=\"T_98ae6_row7_col1\" class=\"data row7 col1\" >-0.004439</td>\n",
       "      <td id=\"T_98ae6_row7_col2\" class=\"data row7 col2\" >0.151080</td>\n",
       "      <td id=\"T_98ae6_row7_col3\" class=\"data row7 col3\" >nan</td>\n",
       "      <td id=\"T_98ae6_row7_col4\" class=\"data row7 col4\" >-0.016697</td>\n",
       "      <td id=\"T_98ae6_row7_col5\" class=\"data row7 col5\" >0.014332</td>\n",
       "      <td id=\"T_98ae6_row7_col6\" class=\"data row7 col6\" >-0.008316</td>\n",
       "      <td id=\"T_98ae6_row7_col7\" class=\"data row7 col7\" >1.000000</td>\n",
       "      <td id=\"T_98ae6_row7_col8\" class=\"data row7 col8\" >-0.016964</td>\n",
       "    </tr>\n",
       "    <tr>\n",
       "      <th id=\"T_98ae6_level0_row8\" class=\"row_heading level0 row8\" >cor_ratio</th>\n",
       "      <td id=\"T_98ae6_row8_col0\" class=\"data row8 col0\" >0.023690</td>\n",
       "      <td id=\"T_98ae6_row8_col1\" class=\"data row8 col1\" >0.000127</td>\n",
       "      <td id=\"T_98ae6_row8_col2\" class=\"data row8 col2\" >0.079188</td>\n",
       "      <td id=\"T_98ae6_row8_col3\" class=\"data row8 col3\" >0.245443</td>\n",
       "      <td id=\"T_98ae6_row8_col4\" class=\"data row8 col4\" >0.037919</td>\n",
       "      <td id=\"T_98ae6_row8_col5\" class=\"data row8 col5\" >-0.530821</td>\n",
       "      <td id=\"T_98ae6_row8_col6\" class=\"data row8 col6\" >0.531130</td>\n",
       "      <td id=\"T_98ae6_row8_col7\" class=\"data row8 col7\" >-0.016964</td>\n",
       "      <td id=\"T_98ae6_row8_col8\" class=\"data row8 col8\" >1.000000</td>\n",
       "    </tr>\n",
       "  </tbody>\n",
       "</table>\n"
      ],
      "text/plain": [
       "<pandas.io.formats.style.Styler at 0x284099f2dd0>"
      ]
     },
     "execution_count": 93,
     "metadata": {},
     "output_type": "execute_result"
    }
   ],
   "source": [
    "# добавляю столбец cor_ratio - соотношение количества правильных ответов к общему количеству ответов студентов\n",
    "trn_df_corr['cor_ratio'] = trn_df_corr.answered_correctly / trn_df_corr.user_answer\n",
    "# вывожу новую корреляцию числовых признаков\n",
    "trn_df_corr.corr().style.background_gradient(cmap = cm, vmin = -1, vmax = 1)"
   ]
  },
  {
   "cell_type": "code",
   "execution_count": 94,
   "metadata": {},
   "outputs": [
    {
     "data": {
      "text/html": [
       "<style type=\"text/css\">\n",
       "#T_bb6bb_row0_col0, #T_bb6bb_row1_col1, #T_bb6bb_row2_col2, #T_bb6bb_row3_col3 {\n",
       "  background-color: #a9373b;\n",
       "  color: #f1f1f1;\n",
       "}\n",
       "#T_bb6bb_row0_col1, #T_bb6bb_row1_col0 {\n",
       "  background-color: #c8cfdd;\n",
       "  color: #000000;\n",
       "}\n",
       "#T_bb6bb_row0_col2, #T_bb6bb_row2_col0 {\n",
       "  background-color: #a7b6ce;\n",
       "  color: #000000;\n",
       "}\n",
       "#T_bb6bb_row0_col3, #T_bb6bb_row3_col0 {\n",
       "  background-color: #e8cac8;\n",
       "  color: #000000;\n",
       "}\n",
       "#T_bb6bb_row1_col2, #T_bb6bb_row2_col1 {\n",
       "  background-color: #f3e2e0;\n",
       "  color: #000000;\n",
       "}\n",
       "#T_bb6bb_row1_col3, #T_bb6bb_row3_col1 {\n",
       "  background-color: #95a9c8;\n",
       "  color: #f1f1f1;\n",
       "}\n",
       "#T_bb6bb_row2_col3, #T_bb6bb_row3_col2 {\n",
       "  background-color: #d19290;\n",
       "  color: #f1f1f1;\n",
       "}\n",
       "</style>\n",
       "<table id=\"T_bb6bb\">\n",
       "  <thead>\n",
       "    <tr>\n",
       "      <th class=\"blank level0\" >&nbsp;</th>\n",
       "      <th id=\"T_bb6bb_level0_col0\" class=\"col_heading level0 col0\" >content_type_id</th>\n",
       "      <th id=\"T_bb6bb_level0_col1\" class=\"col_heading level0 col1\" >user_answer</th>\n",
       "      <th id=\"T_bb6bb_level0_col2\" class=\"col_heading level0 col2\" >answered_correctly</th>\n",
       "      <th id=\"T_bb6bb_level0_col3\" class=\"col_heading level0 col3\" >cor_ratio</th>\n",
       "    </tr>\n",
       "  </thead>\n",
       "  <tbody>\n",
       "    <tr>\n",
       "      <th id=\"T_bb6bb_level0_row0\" class=\"row_heading level0 row0\" >content_type_id</th>\n",
       "      <td id=\"T_bb6bb_row0_col0\" class=\"data row0 col0\" >1.000000</td>\n",
       "      <td id=\"T_bb6bb_row0_col1\" class=\"data row0 col1\" >-0.280714</td>\n",
       "      <td id=\"T_bb6bb_row0_col2\" class=\"data row0 col2\" >-0.438399</td>\n",
       "      <td id=\"T_bb6bb_row0_col3\" class=\"data row0 col3\" >0.245443</td>\n",
       "    </tr>\n",
       "    <tr>\n",
       "      <th id=\"T_bb6bb_level0_row1\" class=\"row_heading level0 row1\" >user_answer</th>\n",
       "      <td id=\"T_bb6bb_row1_col0\" class=\"data row1 col0\" >-0.280714</td>\n",
       "      <td id=\"T_bb6bb_row1_col1\" class=\"data row1 col1\" >1.000000</td>\n",
       "      <td id=\"T_bb6bb_row1_col2\" class=\"data row1 col2\" >0.126985</td>\n",
       "      <td id=\"T_bb6bb_row1_col3\" class=\"data row1 col3\" >-0.530821</td>\n",
       "    </tr>\n",
       "    <tr>\n",
       "      <th id=\"T_bb6bb_level0_row2\" class=\"row_heading level0 row2\" >answered_correctly</th>\n",
       "      <td id=\"T_bb6bb_row2_col0\" class=\"data row2 col0\" >-0.438399</td>\n",
       "      <td id=\"T_bb6bb_row2_col1\" class=\"data row2 col1\" >0.126985</td>\n",
       "      <td id=\"T_bb6bb_row2_col2\" class=\"data row2 col2\" >1.000000</td>\n",
       "      <td id=\"T_bb6bb_row2_col3\" class=\"data row2 col3\" >0.531130</td>\n",
       "    </tr>\n",
       "    <tr>\n",
       "      <th id=\"T_bb6bb_level0_row3\" class=\"row_heading level0 row3\" >cor_ratio</th>\n",
       "      <td id=\"T_bb6bb_row3_col0\" class=\"data row3 col0\" >0.245443</td>\n",
       "      <td id=\"T_bb6bb_row3_col1\" class=\"data row3 col1\" >-0.530821</td>\n",
       "      <td id=\"T_bb6bb_row3_col2\" class=\"data row3 col2\" >0.531130</td>\n",
       "      <td id=\"T_bb6bb_row3_col3\" class=\"data row3 col3\" >1.000000</td>\n",
       "    </tr>\n",
       "  </tbody>\n",
       "</table>\n"
      ],
      "text/plain": [
       "<pandas.io.formats.style.Styler at 0x28409cbf4f0>"
      ]
     },
     "execution_count": 94,
     "metadata": {},
     "output_type": "execute_result"
    }
   ],
   "source": [
    "# удаляю столбцы не связанные со столбцом успеваемости\n",
    "trn_df_corr.drop(trn_df_corr.columns[[0, 1, 2, 4, 7]], axis = 1, inplace = True)\n",
    "# вывожу обновлённую корреляцию числовых признаков\n",
    "trn_df_corr.corr().style.background_gradient(cmap = cm, vmin = -1, vmax = 1)"
   ]
  },
  {
   "cell_type": "code",
   "execution_count": 95,
   "metadata": {},
   "outputs": [
    {
     "data": {
      "text/plain": [
       "<AxesSubplot: xlabel='cor_ratio', ylabel='Count'>"
      ]
     },
     "execution_count": 95,
     "metadata": {},
     "output_type": "execute_result"
    },
    {
     "data": {
      "image/png": "[encoded data removed]",
      "text/plain": [
       "<Figure size 640x480 with 1 Axes>"
      ]
     },
     "metadata": {},
     "output_type": "display_data"
    }
   ],
   "source": [
    "# вывожу распеределение успеваваемости студентов\n",
    "sns.histplot(data = trn_df_corr, x = 'cor_ratio', hue = 'content_type_id', bins = 10)"
   ]
  },
  {
   "cell_type": "markdown",
   "metadata": {},
   "source": [
    "**По представленной корреляции числовых признаков видно, что помимо исходных для неё признаков успеваемость слабо зависит от типа контента (вопрос или лекция).**"
   ]
  },
  {
   "cell_type": "markdown",
   "metadata": {},
   "source": [
    "### Рассмотрим статистику ответов студентов  "
   ]
  },
  {
   "cell_type": "code",
   "execution_count": 96,
   "metadata": {},
   "outputs": [
    {
     "data": {
      "text/plain": [
       "user_id    78267\n",
       "dtype: int64"
      ]
     },
     "execution_count": 96,
     "metadata": {},
     "output_type": "execute_result"
    }
   ],
   "source": [
    "# ищем кол-во уникальных идентификаторов студента\n",
    "trn_df.agg({'user_id': pd.Series.nunique}) "
   ]
  },
  {
   "cell_type": "code",
   "execution_count": 97,
   "metadata": {},
   "outputs": [
    {
     "data": {
      "text/html": [
       "<div>\n",
       "<style scoped>\n",
       "    .dataframe tbody tr th:only-of-type {\n",
       "        vertical-align: middle;\n",
       "    }\n",
       "\n",
       "    .dataframe tbody tr th {\n",
       "        vertical-align: top;\n",
       "    }\n",
       "\n",
       "    .dataframe thead th {\n",
       "        text-align: right;\n",
       "    }\n",
       "</style>\n",
       "<table border=\"1\" class=\"dataframe\">\n",
       "  <thead>\n",
       "    <tr style=\"text-align: right;\">\n",
       "      <th></th>\n",
       "      <th>user_id</th>\n",
       "      <th>user_answer</th>\n",
       "      <th>answered_correctly</th>\n",
       "    </tr>\n",
       "  </thead>\n",
       "  <tbody>\n",
       "    <tr>\n",
       "      <th>0</th>\n",
       "      <td>115</td>\n",
       "      <td>72</td>\n",
       "      <td>32</td>\n",
       "    </tr>\n",
       "    <tr>\n",
       "      <th>1</th>\n",
       "      <td>124</td>\n",
       "      <td>49</td>\n",
       "      <td>7</td>\n",
       "    </tr>\n",
       "    <tr>\n",
       "      <th>2</th>\n",
       "      <td>2746</td>\n",
       "      <td>31</td>\n",
       "      <td>10</td>\n",
       "    </tr>\n",
       "    <tr>\n",
       "      <th>3</th>\n",
       "      <td>5382</td>\n",
       "      <td>169</td>\n",
       "      <td>81</td>\n",
       "    </tr>\n",
       "    <tr>\n",
       "      <th>4</th>\n",
       "      <td>8623</td>\n",
       "      <td>149</td>\n",
       "      <td>67</td>\n",
       "    </tr>\n",
       "  </tbody>\n",
       "</table>\n",
       "</div>"
      ],
      "text/plain": [
       "   user_id  user_answer  answered_correctly\n",
       "0      115           72                  32\n",
       "1      124           49                   7\n",
       "2     2746           31                  10\n",
       "3     5382          169                  81\n",
       "4     8623          149                  67"
      ]
     },
     "execution_count": 97,
     "metadata": {},
     "output_type": "execute_result"
    }
   ],
   "source": [
    "# разбиваю на группы общее кол-во ответов и кол-во правильных ответов каждого студента по его идентификатору в unic_df\n",
    "unic_df = trn_df[['user_id', 'user_answer', 'answered_correctly']].groupby(['user_id'], as_index = False).sum()\n",
    "unic_df.head()\n"
   ]
  },
  {
   "cell_type": "code",
   "execution_count": 98,
   "metadata": {},
   "outputs": [
    {
     "data": {
      "text/html": [
       "<div>\n",
       "<style scoped>\n",
       "    .dataframe tbody tr th:only-of-type {\n",
       "        vertical-align: middle;\n",
       "    }\n",
       "\n",
       "    .dataframe tbody tr th {\n",
       "        vertical-align: top;\n",
       "    }\n",
       "\n",
       "    .dataframe thead th {\n",
       "        text-align: right;\n",
       "    }\n",
       "</style>\n",
       "<table border=\"1\" class=\"dataframe\">\n",
       "  <thead>\n",
       "    <tr style=\"text-align: right;\">\n",
       "      <th></th>\n",
       "      <th>user_id</th>\n",
       "      <th>user_answer</th>\n",
       "      <th>answered_correctly</th>\n",
       "    </tr>\n",
       "  </thead>\n",
       "  <tbody>\n",
       "    <tr>\n",
       "      <th>count</th>\n",
       "      <td>7.826700e+04</td>\n",
       "      <td>78267.000000</td>\n",
       "      <td>78267.000000</td>\n",
       "    </tr>\n",
       "    <tr>\n",
       "      <th>mean</th>\n",
       "      <td>2.146480e+08</td>\n",
       "      <td>351.619993</td>\n",
       "      <td>159.798472</td>\n",
       "    </tr>\n",
       "    <tr>\n",
       "      <th>std</th>\n",
       "      <td>1.240384e+08</td>\n",
       "      <td>1022.862809</td>\n",
       "      <td>497.496787</td>\n",
       "    </tr>\n",
       "    <tr>\n",
       "      <th>min</th>\n",
       "      <td>1.150000e+02</td>\n",
       "      <td>0.000000</td>\n",
       "      <td>-2.000000</td>\n",
       "    </tr>\n",
       "    <tr>\n",
       "      <th>25%</th>\n",
       "      <td>1.069205e+08</td>\n",
       "      <td>37.000000</td>\n",
       "      <td>11.000000</td>\n",
       "    </tr>\n",
       "    <tr>\n",
       "      <th>50%</th>\n",
       "      <td>2.147494e+08</td>\n",
       "      <td>59.000000</td>\n",
       "      <td>22.000000</td>\n",
       "    </tr>\n",
       "    <tr>\n",
       "      <th>75%</th>\n",
       "      <td>3.217601e+08</td>\n",
       "      <td>215.000000</td>\n",
       "      <td>93.000000</td>\n",
       "    </tr>\n",
       "    <tr>\n",
       "      <th>max</th>\n",
       "      <td>4.291869e+08</td>\n",
       "      <td>23016.000000</td>\n",
       "      <td>13312.000000</td>\n",
       "    </tr>\n",
       "  </tbody>\n",
       "</table>\n",
       "</div>"
      ],
      "text/plain": [
       "            user_id   user_answer  answered_correctly\n",
       "count  7.826700e+04  78267.000000        78267.000000\n",
       "mean   2.146480e+08    351.619993          159.798472\n",
       "std    1.240384e+08   1022.862809          497.496787\n",
       "min    1.150000e+02      0.000000           -2.000000\n",
       "25%    1.069205e+08     37.000000           11.000000\n",
       "50%    2.147494e+08     59.000000           22.000000\n",
       "75%    3.217601e+08    215.000000           93.000000\n",
       "max    4.291869e+08  23016.000000        13312.000000"
      ]
     },
     "execution_count": 98,
     "metadata": {},
     "output_type": "execute_result"
    }
   ],
   "source": [
    "# вывожу статистику ответов студентов\n",
    "unic_df.describe() "
   ]
  },
  {
   "cell_type": "code",
   "execution_count": 99,
   "metadata": {},
   "outputs": [
    {
     "data": {
      "text/html": [
       "<div>\n",
       "<style scoped>\n",
       "    .dataframe tbody tr th:only-of-type {\n",
       "        vertical-align: middle;\n",
       "    }\n",
       "\n",
       "    .dataframe tbody tr th {\n",
       "        vertical-align: top;\n",
       "    }\n",
       "\n",
       "    .dataframe thead th {\n",
       "        text-align: right;\n",
       "    }\n",
       "</style>\n",
       "<table border=\"1\" class=\"dataframe\">\n",
       "  <thead>\n",
       "    <tr style=\"text-align: right;\">\n",
       "      <th></th>\n",
       "      <th>user_id</th>\n",
       "      <th>user_answer</th>\n",
       "      <th>answered_correctly</th>\n",
       "      <th>cor_ratio</th>\n",
       "    </tr>\n",
       "  </thead>\n",
       "  <tbody>\n",
       "    <tr>\n",
       "      <th>0</th>\n",
       "      <td>115</td>\n",
       "      <td>72</td>\n",
       "      <td>32</td>\n",
       "      <td>0.444444</td>\n",
       "    </tr>\n",
       "    <tr>\n",
       "      <th>1</th>\n",
       "      <td>124</td>\n",
       "      <td>49</td>\n",
       "      <td>7</td>\n",
       "      <td>0.142857</td>\n",
       "    </tr>\n",
       "    <tr>\n",
       "      <th>2</th>\n",
       "      <td>2746</td>\n",
       "      <td>31</td>\n",
       "      <td>10</td>\n",
       "      <td>0.322581</td>\n",
       "    </tr>\n",
       "    <tr>\n",
       "      <th>3</th>\n",
       "      <td>5382</td>\n",
       "      <td>169</td>\n",
       "      <td>81</td>\n",
       "      <td>0.479290</td>\n",
       "    </tr>\n",
       "    <tr>\n",
       "      <th>4</th>\n",
       "      <td>8623</td>\n",
       "      <td>149</td>\n",
       "      <td>67</td>\n",
       "      <td>0.449664</td>\n",
       "    </tr>\n",
       "    <tr>\n",
       "      <th>...</th>\n",
       "      <td>...</td>\n",
       "      <td>...</td>\n",
       "      <td>...</td>\n",
       "      <td>...</td>\n",
       "    </tr>\n",
       "    <tr>\n",
       "      <th>78261</th>\n",
       "      <td>429158923</td>\n",
       "      <td>23</td>\n",
       "      <td>9</td>\n",
       "      <td>0.391304</td>\n",
       "    </tr>\n",
       "    <tr>\n",
       "      <th>78262</th>\n",
       "      <td>429171967</td>\n",
       "      <td>113</td>\n",
       "      <td>51</td>\n",
       "      <td>0.451327</td>\n",
       "    </tr>\n",
       "    <tr>\n",
       "      <th>78263</th>\n",
       "      <td>429176554</td>\n",
       "      <td>98</td>\n",
       "      <td>39</td>\n",
       "      <td>0.397959</td>\n",
       "    </tr>\n",
       "    <tr>\n",
       "      <th>78264</th>\n",
       "      <td>429177936</td>\n",
       "      <td>73</td>\n",
       "      <td>42</td>\n",
       "      <td>0.575342</td>\n",
       "    </tr>\n",
       "    <tr>\n",
       "      <th>78265</th>\n",
       "      <td>429179439</td>\n",
       "      <td>41</td>\n",
       "      <td>1</td>\n",
       "      <td>0.024390</td>\n",
       "    </tr>\n",
       "  </tbody>\n",
       "</table>\n",
       "<p>73627 rows × 4 columns</p>\n",
       "</div>"
      ],
      "text/plain": [
       "         user_id  user_answer  answered_correctly  cor_ratio\n",
       "0            115           72                  32   0.444444\n",
       "1            124           49                   7   0.142857\n",
       "2           2746           31                  10   0.322581\n",
       "3           5382          169                  81   0.479290\n",
       "4           8623          149                  67   0.449664\n",
       "...          ...          ...                 ...        ...\n",
       "78261  429158923           23                   9   0.391304\n",
       "78262  429171967          113                  51   0.451327\n",
       "78263  429176554           98                  39   0.397959\n",
       "78264  429177936           73                  42   0.575342\n",
       "78265  429179439           41                   1   0.024390\n",
       "\n",
       "[73627 rows x 4 columns]"
      ]
     },
     "execution_count": 99,
     "metadata": {},
     "output_type": "execute_result"
    }
   ],
   "source": [
    "# сокращаю разброс количества ответов студентов\n",
    "def rem_emission(trn_df, col, k_std): # задаю функцию сокращения разброса ответов\n",
    "        mean = trn_df[col].mean() # среднее значение переданного столбца col\n",
    "        std_o = trn_df[col].std() # стандартное отклонение переданного столбца col\n",
    "        return trn_df[(trn_df[col] <= mean + (k_std * std_o))]\n",
    "\n",
    "unic_df = rem_emission(unic_df, 'user_answer', 1) # вызываем функцию сокращения разброса ответов\n",
    "# добавляю столбец cor_ratio успеваемости (соотношения кол-ва правильных ответов к общему кол-ву ответов студентов)\n",
    "unic_df['cor_ratio'] = unic_df.answered_correctly / unic_df.user_answer\n",
    "unic_df # вывожу первые 5 и последние 5 строк полученного unic_df"
   ]
  },
  {
   "cell_type": "code",
   "execution_count": 100,
   "metadata": {},
   "outputs": [
    {
     "data": {
      "text/html": [
       "<div>\n",
       "<style scoped>\n",
       "    .dataframe tbody tr th:only-of-type {\n",
       "        vertical-align: middle;\n",
       "    }\n",
       "\n",
       "    .dataframe tbody tr th {\n",
       "        vertical-align: top;\n",
       "    }\n",
       "\n",
       "    .dataframe thead th {\n",
       "        text-align: right;\n",
       "    }\n",
       "</style>\n",
       "<table border=\"1\" class=\"dataframe\">\n",
       "  <thead>\n",
       "    <tr style=\"text-align: right;\">\n",
       "      <th></th>\n",
       "      <th>user_id</th>\n",
       "      <th>user_answer</th>\n",
       "      <th>answered_correctly</th>\n",
       "      <th>cor_ratio</th>\n",
       "    </tr>\n",
       "  </thead>\n",
       "  <tbody>\n",
       "    <tr>\n",
       "      <th>count</th>\n",
       "      <td>7.362700e+04</td>\n",
       "      <td>73627.000000</td>\n",
       "      <td>73627.000000</td>\n",
       "      <td>7.362600e+04</td>\n",
       "    </tr>\n",
       "    <tr>\n",
       "      <th>mean</th>\n",
       "      <td>2.146587e+08</td>\n",
       "      <td>161.927092</td>\n",
       "      <td>69.556739</td>\n",
       "      <td>inf</td>\n",
       "    </tr>\n",
       "    <tr>\n",
       "      <th>std</th>\n",
       "      <td>1.239997e+08</td>\n",
       "      <td>245.557148</td>\n",
       "      <td>114.554544</td>\n",
       "      <td>NaN</td>\n",
       "    </tr>\n",
       "    <tr>\n",
       "      <th>min</th>\n",
       "      <td>1.150000e+02</td>\n",
       "      <td>0.000000</td>\n",
       "      <td>-2.000000</td>\n",
       "      <td>-5.263158e-02</td>\n",
       "    </tr>\n",
       "    <tr>\n",
       "      <th>25%</th>\n",
       "      <td>1.072040e+08</td>\n",
       "      <td>36.000000</td>\n",
       "      <td>11.000000</td>\n",
       "      <td>2.918809e-01</td>\n",
       "    </tr>\n",
       "    <tr>\n",
       "      <th>50%</th>\n",
       "      <td>2.146948e+08</td>\n",
       "      <td>55.000000</td>\n",
       "      <td>20.000000</td>\n",
       "      <td>3.905788e-01</td>\n",
       "    </tr>\n",
       "    <tr>\n",
       "      <th>75%</th>\n",
       "      <td>3.217233e+08</td>\n",
       "      <td>159.000000</td>\n",
       "      <td>68.000000</td>\n",
       "      <td>4.715002e-01</td>\n",
       "    </tr>\n",
       "    <tr>\n",
       "      <th>max</th>\n",
       "      <td>4.291794e+08</td>\n",
       "      <td>1374.000000</td>\n",
       "      <td>859.000000</td>\n",
       "      <td>inf</td>\n",
       "    </tr>\n",
       "  </tbody>\n",
       "</table>\n",
       "</div>"
      ],
      "text/plain": [
       "            user_id   user_answer  answered_correctly     cor_ratio\n",
       "count  7.362700e+04  73627.000000        73627.000000  7.362600e+04\n",
       "mean   2.146587e+08    161.927092           69.556739           inf\n",
       "std    1.239997e+08    245.557148          114.554544           NaN\n",
       "min    1.150000e+02      0.000000           -2.000000 -5.263158e-02\n",
       "25%    1.072040e+08     36.000000           11.000000  2.918809e-01\n",
       "50%    2.146948e+08     55.000000           20.000000  3.905788e-01\n",
       "75%    3.217233e+08    159.000000           68.000000  4.715002e-01\n",
       "max    4.291794e+08   1374.000000          859.000000           inf"
      ]
     },
     "execution_count": 100,
     "metadata": {},
     "output_type": "execute_result"
    }
   ],
   "source": [
    "unic_df.describe() # вывожу статистику ответов студентов с новым столбцом"
   ]
  },
  {
   "cell_type": "markdown",
   "metadata": {},
   "source": [
    "### Вычисляем медианное значение количества ответов студентов"
   ]
  },
  {
   "cell_type": "code",
   "execution_count": 101,
   "metadata": {},
   "outputs": [
    {
     "name": "stdout",
     "output_type": "stream",
     "text": [
      "Медианное значение количества ответов студентов:  55.0\n"
     ]
    }
   ],
   "source": [
    "a_per_user_med = unic_df.user_answer.median()\n",
    "print('Медианное значение количества ответов студентов: ', a_per_user_med)"
   ]
  },
  {
   "cell_type": "markdown",
   "metadata": {},
   "source": [
    "### Визуализируем данные о количестве ответов студентов"
   ]
  },
  {
   "cell_type": "code",
   "execution_count": 102,
   "metadata": {},
   "outputs": [
    {
     "data": {
      "text/plain": [
       "<AxesSubplot: xlabel='user_answer', ylabel='Count'>"
      ]
     },
     "execution_count": 102,
     "metadata": {},
     "output_type": "execute_result"
    },
    {
     "data": {
      "image/png": "[encoded data removed]",
      "text/plain": [
       "<Figure size 640x480 with 1 Axes>"
      ]
     },
     "metadata": {},
     "output_type": "display_data"
    }
   ],
   "source": [
    "# Выводим распределение кол-ва ответов студентов: заметен перекос в начале\n",
    "sns.histplot(data = unic_df, x = 'user_answer', color='blue')"
   ]
  },
  {
   "cell_type": "code",
   "execution_count": 103,
   "metadata": {},
   "outputs": [
    {
     "name": "stdout",
     "output_type": "stream",
     "text": [
      "0.4282607976327222\n"
     ]
    },
    {
     "data": {
      "text/plain": [
       "<AxesSubplot: >"
      ]
     },
     "execution_count": 103,
     "metadata": {},
     "output_type": "execute_result"
    },
    {
     "data": {
      "image/png": "[encoded data removed]",
      "text/plain": [
       "<Figure size 640x480 with 1 Axes>"
      ]
     },
     "metadata": {},
     "output_type": "display_data"
    }
   ],
   "source": [
    "# вывожу распределение кол-ва ответов студентов, которое больше медианного\n",
    "print(unic_df.query('user_answer > 55')['cor_ratio'].median())\n",
    "unic_df.query('user_answer > 55')['cor_ratio'].hist(bins = 50, color = 'orange')"
   ]
  },
  {
   "cell_type": "code",
   "execution_count": 104,
   "metadata": {},
   "outputs": [
    {
     "name": "stdout",
     "output_type": "stream",
     "text": [
      "0.4498038995106436\n"
     ]
    },
    {
     "data": {
      "text/plain": [
       "<AxesSubplot: >"
      ]
     },
     "execution_count": 104,
     "metadata": {},
     "output_type": "execute_result"
    },
    {
     "data": {
      "image/png": "[encoded data removed]",
      "text/plain": [
       "<Figure size 640x480 with 1 Axes>"
      ]
     },
     "metadata": {},
     "output_type": "display_data"
    }
   ],
   "source": [
    "# вывожу распределение кол-ва ответов студентов, которое больше 75%\n",
    "print(unic_df.query('user_answer > 151')['cor_ratio'].median())\n",
    "unic_df.query('user_answer > 151')['cor_ratio'].hist(bins = 50, color = 'brown')"
   ]
  },
  {
   "cell_type": "code",
   "execution_count": 105,
   "metadata": {},
   "outputs": [
    {
     "name": "stdout",
     "output_type": "stream",
     "text": [
      "0.46034165698799845\n"
     ]
    },
    {
     "data": {
      "text/plain": [
       "<AxesSubplot: >"
      ]
     },
     "execution_count": 105,
     "metadata": {},
     "output_type": "execute_result"
    },
    {
     "data": {
      "image/png": "[encoded data removed]",
      "text/plain": [
       "<Figure size 640x480 with 1 Axes>"
      ]
     },
     "metadata": {},
     "output_type": "display_data"
    }
   ],
   "source": [
    "# вывожу распределение кол-ва ответов студентов, которое больше 500\n",
    "print(unic_df.query('user_answer > 500')['cor_ratio'].median())\n",
    "unic_df.query('user_answer > 500')['cor_ratio'].hist(bins = 50, color = 'purple')"
   ]
  },
  {
   "cell_type": "code",
   "execution_count": 106,
   "metadata": {},
   "outputs": [
    {
     "name": "stdout",
     "output_type": "stream",
     "text": [
      "0.4227091238818025\n"
     ]
    },
    {
     "data": {
      "text/plain": [
       "<AxesSubplot: >"
      ]
     },
     "execution_count": 106,
     "metadata": {},
     "output_type": "execute_result"
    },
    {
     "data": {
      "image/png": "[encoded data removed]",
      "text/plain": [
       "<Figure size 640x480 with 1 Axes>"
      ]
     },
     "metadata": {},
     "output_type": "display_data"
    }
   ],
   "source": [
    "# вывожу распределение кол-ва ответов студентов, которое меньше 50\n",
    "print(unic_df.query('0 < user_answer > 50')['cor_ratio'].median())\n",
    "unic_df.query('0 < user_answer > 50')['cor_ratio'].hist(bins = 50, color = 'orange')"
   ]
  },
  {
   "attachments": {},
   "cell_type": "markdown",
   "metadata": {},
   "source": [
    "#### По представленным графикам видно, что студенты, ответившие на меньше медианного значения количества ответов, справлялись хуже тех, кто ответил больше медианного значения. При этом ответы в количестве гораздо большем медианного значения незначительно сказались на увеличении числа правильных ответов."
   ]
  },
  {
   "cell_type": "markdown",
   "metadata": {},
   "source": [
    "## Поищем взаимосвязь времени между взаимодействием со студентом и завершением первого события от него, среднего времени ответа на каждый вопрос и количества правильных ответов с общим количеством ответов студентов"
   ]
  },
  {
   "cell_type": "code",
   "execution_count": 107,
   "metadata": {},
   "outputs": [
    {
     "data": {
      "text/html": [
       "<div>\n",
       "<style scoped>\n",
       "    .dataframe tbody tr th:only-of-type {\n",
       "        vertical-align: middle;\n",
       "    }\n",
       "\n",
       "    .dataframe tbody tr th {\n",
       "        vertical-align: top;\n",
       "    }\n",
       "\n",
       "    .dataframe thead th {\n",
       "        text-align: right;\n",
       "    }\n",
       "</style>\n",
       "<table border=\"1\" class=\"dataframe\">\n",
       "  <thead>\n",
       "    <tr style=\"text-align: right;\">\n",
       "      <th></th>\n",
       "      <th>user_answer</th>\n",
       "      <th>timestamp_ratio</th>\n",
       "      <th>elapsed_time_ratio</th>\n",
       "      <th>cor_ratio</th>\n",
       "    </tr>\n",
       "  </thead>\n",
       "  <tbody>\n",
       "    <tr>\n",
       "      <th>0</th>\n",
       "      <td>72</td>\n",
       "      <td>6.524638e+07</td>\n",
       "      <td>12458.319444</td>\n",
       "      <td>0.444444</td>\n",
       "    </tr>\n",
       "    <tr>\n",
       "      <th>1</th>\n",
       "      <td>49</td>\n",
       "      <td>2.252203e+05</td>\n",
       "      <td>11122.387755</td>\n",
       "      <td>0.142857</td>\n",
       "    </tr>\n",
       "    <tr>\n",
       "      <th>2</th>\n",
       "      <td>31</td>\n",
       "      <td>2.472123e+05</td>\n",
       "      <td>10483.870968</td>\n",
       "      <td>0.322581</td>\n",
       "    </tr>\n",
       "    <tr>\n",
       "      <th>3</th>\n",
       "      <td>169</td>\n",
       "      <td>2.879101e+08</td>\n",
       "      <td>26449.704142</td>\n",
       "      <td>0.479290</td>\n",
       "    </tr>\n",
       "    <tr>\n",
       "      <th>4</th>\n",
       "      <td>149</td>\n",
       "      <td>2.615750e+08</td>\n",
       "      <td>18923.489933</td>\n",
       "      <td>0.449664</td>\n",
       "    </tr>\n",
       "    <tr>\n",
       "      <th>...</th>\n",
       "      <td>...</td>\n",
       "      <td>...</td>\n",
       "      <td>...</td>\n",
       "      <td>...</td>\n",
       "    </tr>\n",
       "    <tr>\n",
       "      <th>78261</th>\n",
       "      <td>23</td>\n",
       "      <td>3.167230e+05</td>\n",
       "      <td>28217.391304</td>\n",
       "      <td>0.391304</td>\n",
       "    </tr>\n",
       "    <tr>\n",
       "      <th>78262</th>\n",
       "      <td>113</td>\n",
       "      <td>1.898626e+08</td>\n",
       "      <td>19353.982301</td>\n",
       "      <td>0.451327</td>\n",
       "    </tr>\n",
       "    <tr>\n",
       "      <th>78263</th>\n",
       "      <td>98</td>\n",
       "      <td>1.518003e+07</td>\n",
       "      <td>20438.755102</td>\n",
       "      <td>0.397959</td>\n",
       "    </tr>\n",
       "    <tr>\n",
       "      <th>78264</th>\n",
       "      <td>73</td>\n",
       "      <td>3.795117e+07</td>\n",
       "      <td>12123.287671</td>\n",
       "      <td>0.575342</td>\n",
       "    </tr>\n",
       "    <tr>\n",
       "      <th>78265</th>\n",
       "      <td>41</td>\n",
       "      <td>3.042821e+05</td>\n",
       "      <td>17756.097561</td>\n",
       "      <td>0.024390</td>\n",
       "    </tr>\n",
       "  </tbody>\n",
       "</table>\n",
       "<p>73627 rows × 4 columns</p>\n",
       "</div>"
      ],
      "text/plain": [
       "       user_answer  timestamp_ratio  elapsed_time_ratio  cor_ratio\n",
       "0               72     6.524638e+07        12458.319444   0.444444\n",
       "1               49     2.252203e+05        11122.387755   0.142857\n",
       "2               31     2.472123e+05        10483.870968   0.322581\n",
       "3              169     2.879101e+08        26449.704142   0.479290\n",
       "4              149     2.615750e+08        18923.489933   0.449664\n",
       "...            ...              ...                 ...        ...\n",
       "78261           23     3.167230e+05        28217.391304   0.391304\n",
       "78262          113     1.898626e+08        19353.982301   0.451327\n",
       "78263           98     1.518003e+07        20438.755102   0.397959\n",
       "78264           73     3.795117e+07        12123.287671   0.575342\n",
       "78265           41     3.042821e+05        17756.097561   0.024390\n",
       "\n",
       "[73627 rows x 4 columns]"
      ]
     },
     "execution_count": 107,
     "metadata": {},
     "output_type": "execute_result"
    }
   ],
   "source": [
    "# группирую общее количество ответов, кол-во правильных ответов и время ответа \n",
    "# на каждый вопрос студентов по их идентификаторам в corr_look\n",
    "corr_look = trn_df[['user_id', 'user_answer', 'answered_correctly', 'timestamp', \\\n",
    "    'prior_question_elapsed_time']].groupby(['user_id'], as_index = False).sum()\n",
    "# добавляю столбец timestamp_ratio соотношения времени между взаимодействием со студентом \n",
    "# и завершением первого события от него к общему количеству ответов студентов\n",
    "corr_look['timestamp_ratio'] = corr_look['timestamp'] / corr_look['user_answer']\n",
    "# добавляю столбец elapsed_time_ratio соотношения среднего времени ответа на каждый вопрос к общему кол-ву ответов студентов\n",
    "corr_look['elapsed_time_ratio'] = corr_look['prior_question_elapsed_time'] / corr_look['user_answer']\n",
    "# добавляю столбец cor_ratio успеваемости (соотношения кол-ва правильных ответов к общему кол-ву ответов студентов)\n",
    "corr_look['cor_ratio'] = corr_look.answered_correctly / corr_look.user_answer\n",
    "# удаляю ненужные столбцы\n",
    "corr_look.drop(corr_look.columns[[0, 2, 3, 4]], axis = 1, inplace = True)\n",
    "corr_look = rem_emission(corr_look, 'user_answer', 1) # вызываем функцию сокращения разброса ответов\n",
    "corr_look # выводим первые 5 и последние 5 строк полученного corr_look"
   ]
  },
  {
   "cell_type": "code",
   "execution_count": 108,
   "metadata": {},
   "outputs": [],
   "source": [
    "# явная зависимость между успеваемостью и кол-вом ответов студентов отсутствует"
   ]
  },
  {
   "cell_type": "code",
   "execution_count": 109,
   "metadata": {},
   "outputs": [
    {
     "name": "stderr",
     "output_type": "stream",
     "text": [
      "C:\\Users\\Юленька\\AppData\\Local\\Packages\\PythonSoftwareFoundation.Python.3.10_qbz5n2kfra8p0\\LocalCache\\local-packages\\Python310\\site-packages\\numpy\\lib\\nanfunctions.py:1577: RuntimeWarning: All-NaN slice encountered\n",
      "  result = np.apply_along_axis(_nanquantile_1d, axis, a, q,\n"
     ]
    },
    {
     "data": {
      "text/plain": [
       "<AxesSubplot: xlabel='user_answer', ylabel='timestamp_ratio'>"
      ]
     },
     "execution_count": 109,
     "metadata": {},
     "output_type": "execute_result"
    },
    {
     "data": {
      "image/png": "[encoded data removed]",
      "text/plain": [
       "<Figure size 640x480 with 1 Axes>"
      ]
     },
     "metadata": {},
     "output_type": "display_data"
    }
   ],
   "source": [
    "# вывожу соотношение timestamp_ratio к кол-ву ответов студентов: явной зависимости нет\n",
    "sns.regplot(data = corr_look, x = 'user_answer', y = 'timestamp_ratio', color = 'purple')"
   ]
  },
  {
   "cell_type": "code",
   "execution_count": 110,
   "metadata": {},
   "outputs": [
    {
     "data": {
      "text/plain": [
       "<AxesSubplot: xlabel='user_answer', ylabel='elapsed_time_ratio'>"
      ]
     },
     "execution_count": 110,
     "metadata": {},
     "output_type": "execute_result"
    },
    {
     "data": {
      "image/png": "[encoded data removed]",
      "text/plain": [
       "<Figure size 640x480 with 1 Axes>"
      ]
     },
     "metadata": {},
     "output_type": "display_data"
    }
   ],
   "source": [
    "# вывожу соотношение elapsed_time_ratio к кол-ву ответов студентов: явной зависмости нет\n",
    "sns.regplot(data = corr_look, x = 'user_answer', y = 'elapsed_time_ratio', color = 'blue')"
   ]
  },
  {
   "cell_type": "code",
   "execution_count": 111,
   "metadata": {},
   "outputs": [
    {
     "name": "stderr",
     "output_type": "stream",
     "text": [
      "C:\\Users\\Юленька\\AppData\\Local\\Packages\\PythonSoftwareFoundation.Python.3.10_qbz5n2kfra8p0\\LocalCache\\local-packages\\Python310\\site-packages\\numpy\\core\\function_base.py:157: RuntimeWarning: invalid value encountered in multiply\n",
      "  y *= step\n",
      "C:\\Users\\Юленька\\AppData\\Local\\Packages\\PythonSoftwareFoundation.Python.3.10_qbz5n2kfra8p0\\LocalCache\\local-packages\\Python310\\site-packages\\numpy\\lib\\function_base.py:4573: RuntimeWarning: invalid value encountered in subtract\n",
      "  diff_b_a = subtract(b, a)\n"
     ]
    },
    {
     "data": {
      "text/plain": [
       "<AxesSubplot: xlabel='timestamp_ratio', ylabel='cor_ratio'>"
      ]
     },
     "execution_count": 111,
     "metadata": {},
     "output_type": "execute_result"
    },
    {
     "data": {
      "image/png": "[encoded data removed]",
      "text/plain": [
       "<Figure size 640x480 with 1 Axes>"
      ]
     },
     "metadata": {},
     "output_type": "display_data"
    }
   ],
   "source": [
    "# вывожу соотношение timestamp_ratio к успеваемости: явной зависимости нет\n",
    "sns.regplot(data = corr_look, x = 'timestamp_ratio', y = 'cor_ratio', color = 'brown')"
   ]
  },
  {
   "cell_type": "code",
   "execution_count": 112,
   "metadata": {},
   "outputs": [
    {
     "data": {
      "text/plain": [
       "<AxesSubplot: xlabel='elapsed_time_ratio', ylabel='cor_ratio'>"
      ]
     },
     "execution_count": 112,
     "metadata": {},
     "output_type": "execute_result"
    },
    {
     "data": {
      "image/png": "[encoded data removed]",
      "text/plain": [
       "<Figure size 640x480 with 1 Axes>"
      ]
     },
     "metadata": {},
     "output_type": "display_data"
    }
   ],
   "source": [
    "# выявлена зависимость между elapsed_time_ratio и успеваемостью\n",
    "sns.regplot(data = corr_look, x = 'elapsed_time_ratio', y = 'cor_ratio', color = 'green')"
   ]
  },
  {
   "attachments": {},
   "cell_type": "markdown",
   "metadata": {},
   "source": [
    "## Итак, на успеваемость студентов влияют следующие характеристики:\n",
    "- количество ответов студентов, большее медианного значения количества ответов, равного 55\n",
    "- типа контента (вопрос или лекция) - очень слабо\n",
    "- соотношения количества правильных ответов и среднего времени ответа на каждый вопрос к общему количеству ответов студентов - слабо\n"
   ]
  }
 ],
 "metadata": {
  "kernelspec": {
   "display_name": "Python 3",
   "language": "python",
   "name": "python3"
  },
  "language_info": {
   "codemirror_mode": {
    "name": "ipython",
    "version": 3
   },
   "file_extension": ".py",
   "mimetype": "text/x-python",
   "name": "python",
   "nbconvert_exporter": "python",
   "pygments_lexer": "ipython3",
   "version": "3.10.7 (tags/v3.10.7:6cc6b13, Sep  5 2022, 14:08:36) [MSC v.1933 64 bit (AMD64)]"
  },
  "orig_nbformat": 4,
  "vscode": {
   "interpreter": {
    "hash": "9fedf14f9b3e1b7dcfeb1ccd7f23946d9db379f1e5eff10898a38ab1a27a999e"
   }
  }
 },
 "nbformat": 4,
 "nbformat_minor": 2
}
